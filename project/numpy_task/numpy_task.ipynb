{
 "cells": [
  {
   "cell_type": "markdown",
   "metadata": {
    "id": "8OBaJvqhNBs8"
   },
   "source": [
    "## Импортируем все необходимые библиотеки"
   ]
  },
  {
   "cell_type": "code",
   "execution_count": 497,
   "metadata": {
    "id": "SgrXWwAgNE4k"
   },
   "outputs": [],
   "source": [
    "import numpy as np\n",
    "from matplotlib import pyplot as plt\n",
    "from sklearn.svm import SVC\n",
    "from sklearn.decomposition import PCA\n",
    "from sklearn.manifold import TSNE\n",
    "from sklearn.metrics import accuracy_score, precision_score, recall_score, f1_score, classification_report\n",
    "from sklearn.model_selection import GridSearchCV"
   ]
  },
  {
   "cell_type": "markdown",
   "metadata": {
    "id": "zPKv5vCoH6Jt"
   },
   "source": [
    "## Загрузим датасет [**Ирис**](https://archive.ics.uci.edu/ml/machine-learning-databases/iris/iris.data)"
   ]
  },
  {
   "cell_type": "code",
   "execution_count": 498,
   "metadata": {
    "colab": {
     "base_uri": "https://localhost:8080/",
     "height": 221
    },
    "id": "C-0QV_5VIeHQ",
    "outputId": "353bf6e1-9a52-4ef3-d3c6-a35f7de403c1"
   },
   "outputs": [
    {
     "name": "stdout",
     "output_type": "stream",
     "text": [
      "[[5.1 3.5 1.4 0.2]\n",
      " [4.9 3.  1.4 0.2]\n",
      " [4.7 3.2 1.3 0.2]\n",
      " [4.6 3.1 1.5 0.2]\n",
      " [5.  3.6 1.4 0.2]]\n",
      "['Iris-setosa' 'Iris-setosa' 'Iris-setosa' 'Iris-setosa' 'Iris-setosa']\n"
     ]
    }
   ],
   "source": [
    "file_path = \"data/iris.csv\" # https://archive.ics.uci.edu/ml/machine-learning-databases/iris/iris.data\n",
    "\n",
    "# Получим признаки из датасета\n",
    "X = np.loadtxt(file_path, delimiter=',', usecols=range(4))\n",
    "print(X[:5])\n",
    "\n",
    "# Получим таргеты из датасета\n",
    "y = np.genfromtxt(file_path, delimiter=',', dtype=str, usecols=4)\n",
    "print(y[:5])\n"
   ]
  },
  {
   "cell_type": "markdown",
   "metadata": {
    "id": "DRnrSqDMVebT"
   },
   "source": [
    "## Работа с данными"
   ]
  },
  {
   "cell_type": "code",
   "execution_count": 499,
   "metadata": {
    "colab": {
     "base_uri": "https://localhost:8080/"
    },
    "id": "D5KE-li2MNim",
    "outputId": "3040f7ee-4b74-4e49-8bb0-28c12f120408"
   },
   "outputs": [
    {
     "name": "stdout",
     "output_type": "stream",
     "text": [
      "Размер матрицы X (признаки): 4800 байт\n",
      "Размер вектора y (классы): 9000 байт\n"
     ]
    }
   ],
   "source": [
    "# Выводим размеры X, y в памяти\n",
    "print(f\"Размер матрицы X (признаки): {X.nbytes} байт\")\n",
    "print(f\"Размер вектора y (классы): {y.nbytes} байт\")"
   ]
  },
  {
   "cell_type": "code",
   "execution_count": 500,
   "metadata": {},
   "outputs": [
    {
     "name": "stdout",
     "output_type": "stream",
     "text": [
      "Тип данных: <U15\n"
     ]
    }
   ],
   "source": [
    "# Проверим тип данных\n",
    "print(f\"Тип данных: {y.dtype}\")"
   ]
  },
  {
   "cell_type": "code",
   "execution_count": 501,
   "metadata": {},
   "outputs": [
    {
     "name": "stdout",
     "output_type": "stream",
     "text": [
      "Размер одного элемента: 60 байт\n"
     ]
    }
   ],
   "source": [
    "# Размер одного элемента\n",
    "print(f\"Размер одного элемента: {y.itemsize} байт\")"
   ]
  },
  {
   "cell_type": "markdown",
   "metadata": {},
   "source": [
    "- U означает, что строки хранятся в формате Unicode.\n",
    "- 15 указывает на максимальную длину строк, которые могут храниться в массиве. То есть каждая строка может содержать до 15 символов.\n",
    "- В кодировке UTF-32 каждый символ Unicode занимает 4 байта. Поэтому строка длиной 15 символов будет занимать:\n",
    "    <br>15 символов * 4 байта на символ = 60 байт"
   ]
  },
  {
   "cell_type": "markdown",
   "metadata": {
    "id": "yxpScDM5SHxt"
   },
   "source": [
    "Рассмотрим веса самих данных в матрице и векторе:\n",
    "\n",
    "- Таблица признаков занимает 150 объектов * 4 колонок * 8 байт (размер float64) = 4800 байт\n",
    "- Вектор матрицы занимает 150 объектов * 1 колонку * 60 байт (размер U15) = 9000 байт"
   ]
  },
  {
   "cell_type": "markdown",
   "metadata": {
    "id": "uP77YgaGVknz"
   },
   "source": [
    "## Нормализация данных"
   ]
  },
  {
   "cell_type": "markdown",
   "metadata": {
    "id": "iXIvhdWvMqYw"
   },
   "source": [
    "Чтобы нормализовать данные, нужно для каждого признака (каждой колонки) вычислить минимальное и максимальное значения, а затем масштабировать данные в диапазон от 0 до 1 с использованием формулы:\n",
    "\n",
    "$$\n",
    "X_{\\text{norm}} = \\frac{X - X_{\\text{min}}}{X_{\\text{max}} - X_{\\text{min}}}\n",
    "$$\n",
    "\n",
    "Где:\n",
    "- $ X $ — это исходные данные.\n",
    "- $ X_{\\text{min}} $ — минимальное значение в колонке.\n",
    "- $ X_{\\text{max}} $ — максимальное значение в колонке."
   ]
  },
  {
   "cell_type": "code",
   "execution_count": 502,
   "metadata": {
    "colab": {
     "base_uri": "https://localhost:8080/"
    },
    "id": "F4HYjn1SM_ch",
    "outputId": "19e454d7-cc0e-438b-d058-35ef6f74df1a"
   },
   "outputs": [
    {
     "name": "stdout",
     "output_type": "stream",
     "text": [
      "Нормализованные данные (первые 5 строк):\n",
      " [[0.22222222 0.625      0.06779661 0.04166667]\n",
      " [0.16666667 0.41666667 0.06779661 0.04166667]\n",
      " [0.11111111 0.5        0.05084746 0.04166667]\n",
      " [0.08333333 0.45833333 0.08474576 0.04166667]\n",
      " [0.19444444 0.66666667 0.06779661 0.04166667]]\n"
     ]
    }
   ],
   "source": [
    "# Нормализация данных вручную\n",
    "X_norm = np.zeros_like(X, dtype=float)\n",
    "\n",
    "for i in range(X.shape[1]):\n",
    "    X_min = X[:, i].min()\n",
    "    X_max = X[:, i].max()\n",
    "    X_norm[:, i] = (X[:, i] - X_min) / (X_max - X_min)\n",
    "\n",
    "# Выводим первые несколько строк нормализованных данных\n",
    "print(\"Нормализованные данные (первые 5 строк):\\n\", X_norm[:5])"
   ]
  },
  {
   "cell_type": "markdown",
   "metadata": {
    "id": "LvyS_khYV0f9"
   },
   "source": [
    "## Представление одного из признаков в виде категориальной переменной"
   ]
  },
  {
   "cell_type": "markdown",
   "metadata": {
    "id": "jTCkzKXAN36x"
   },
   "source": [
    "Представим один из признаков в виде категориальной переменной и разделим его на три типа используя квантили:\n",
    "    <br>< 0.25 --- small\n",
    "    <br>0.25 - 0.75 --- medium\n",
    "    <br>\\> 0.75 --- big"
   ]
  },
  {
   "cell_type": "code",
   "execution_count": 503,
   "metadata": {},
   "outputs": [
    {
     "data": {
      "text/plain": [
       "array([['0.22222222222222213', '0.6249999999999999',\n",
       "        '0.06779661016949151', '0.04166666666666667', 'Iris-setosa'],\n",
       "       ['0.1666666666666668', '0.41666666666666663',\n",
       "        '0.06779661016949151', '0.04166666666666667', 'Iris-setosa'],\n",
       "       ['0.11111111111111119', '0.5', '0.05084745762711865',\n",
       "        '0.04166666666666667', 'Iris-setosa'],\n",
       "       ['0.08333333333333327', '0.4583333333333333',\n",
       "        '0.0847457627118644', '0.04166666666666667', 'Iris-setosa'],\n",
       "       ['0.19444444444444448', '0.6666666666666666',\n",
       "        '0.06779661016949151', '0.04166666666666667', 'Iris-setosa']],\n",
       "      dtype='<U32')"
      ]
     },
     "execution_count": 503,
     "metadata": {},
     "output_type": "execute_result"
    }
   ],
   "source": [
    "# Объединяем X_norm и y\n",
    "iris_df_norm = np.column_stack((X_norm, y))\n",
    "\n",
    "iris_df_norm[:5]"
   ]
  },
  {
   "cell_type": "code",
   "execution_count": 504,
   "metadata": {
    "colab": {
     "base_uri": "https://localhost:8080/",
     "height": 221
    },
    "id": "6OZOXmqdN2CS",
    "outputId": "70f737a6-d5bd-4982-856c-1818abf83469"
   },
   "outputs": [
    {
     "data": {
      "text/plain": [
       "array([['big', 0.6249999999999999, 0.06779661016949151,\n",
       "        0.04166666666666667, 'Iris-setosa'],\n",
       "       ['big', 0.41666666666666663, 0.06779661016949151,\n",
       "        0.04166666666666667, 'Iris-setosa'],\n",
       "       ['big', 0.5, 0.05084745762711865, 0.04166666666666667,\n",
       "        'Iris-setosa'],\n",
       "       ['big', 0.4583333333333333, 0.0847457627118644,\n",
       "        0.04166666666666667, 'Iris-setosa'],\n",
       "       ['big', 0.6666666666666666, 0.06779661016949151,\n",
       "        0.04166666666666667, 'Iris-setosa'],\n",
       "       ['big', 0.7916666666666665, 0.11864406779661016,\n",
       "        0.12500000000000003, 'Iris-setosa'],\n",
       "       ['big', 0.5833333333333333, 0.06779661016949151,\n",
       "        0.08333333333333333, 'Iris-setosa'],\n",
       "       ['big', 0.5833333333333333, 0.0847457627118644,\n",
       "        0.04166666666666667, 'Iris-setosa'],\n",
       "       ['medium', 0.3749999999999999, 0.06779661016949151,\n",
       "        0.04166666666666667, 'Iris-setosa'],\n",
       "       ['big', 0.4583333333333333, 0.0847457627118644, 0.0,\n",
       "        'Iris-setosa']], dtype=object)"
      ]
     },
     "execution_count": 504,
     "metadata": {},
     "output_type": "execute_result"
    }
   ],
   "source": [
    "# Вычислим квантили: 25% (Q1) и 75% (Q3)\n",
    "sepal_length = X_norm[:, 0]\n",
    "\n",
    "Q1 = np.percentile(sepal_length, 0.25)\n",
    "Q3 = np.percentile(sepal_length, 0.75)\n",
    "\n",
    "# Функция для категоризации признака\n",
    "def categorize(value, Q1, Q3):\n",
    "    if value < Q1:\n",
    "        return 'small'\n",
    "    elif value > Q3:\n",
    "        return 'big'\n",
    "    else:\n",
    "        return 'medium'\n",
    "\n",
    "# Применяем функцию к столбцу 'sepal_length'\n",
    "categorized_sepal_length = np.array([categorize(value, Q1, Q3) for value in sepal_length])\n",
    "# Создаем массив с объектным типом\n",
    "iris_data_cat = X_norm.astype(object)\n",
    "\n",
    "# Заменяем столбец `sepal_length` на категоризированные значения\n",
    "iris_data_cat[:, 0] = categorized_sepal_length\n",
    "\n",
    "# Добавляем целевой вектор\n",
    "iris_data_cat = np.column_stack((iris_data_cat, y))\n",
    "\n",
    "iris_data_cat[:10]"
   ]
  },
  {
   "cell_type": "markdown",
   "metadata": {
    "id": "KHT7am4nV9Ab"
   },
   "source": [
    "## Разделение данных на train и test"
   ]
  },
  {
   "cell_type": "markdown",
   "metadata": {
    "id": "EYE4PSAiOzSu"
   },
   "source": [
    "Разделим датасет на две случайные выборки (0.8 / 0.2)"
   ]
  },
  {
   "cell_type": "code",
   "execution_count": 505,
   "metadata": {
    "id": "0yZvMvj2UY3V"
   },
   "outputs": [],
   "source": [
    "# Получаем количество строк в датасете\n",
    "n = len(iris_df_norm)\n",
    "\n",
    "indices = np.random.permutation(n)\n",
    "\n",
    "# Определяем точку разбиения (80% для обучающей выборки)\n",
    "split_point = int(n * 0.8)\n"
   ]
  },
  {
   "cell_type": "code",
   "execution_count": 506,
   "metadata": {
    "colab": {
     "base_uri": "https://localhost:8080/"
    },
    "id": "_np-HuuAWZGF",
    "outputId": "cf179bd9-d91b-4c6f-811b-f1d0dd0f9802"
   },
   "outputs": [
    {
     "name": "stdout",
     "output_type": "stream",
     "text": [
      "Размер всей исходной выборки: 150\n",
      "Размер обучающей выборки: 120\n",
      "Размер тестовой выборки: 30\n"
     ]
    }
   ],
   "source": [
    "\n",
    "# Разбиение массива\n",
    "train_df_norm = iris_df_norm[indices[:split_point]]\n",
    "test_df_norm = iris_df_norm[indices[split_point:]]\n",
    "\n",
    "print(f\"Размер всей исходной выборки: {n}\")\n",
    "print(f\"Размер обучающей выборки: {len(train_df_norm)}\")\n",
    "print(f\"Размер тестовой выборки: {len(test_df_norm)}\")"
   ]
  },
  {
   "cell_type": "code",
   "execution_count": 507,
   "metadata": {
    "colab": {
     "base_uri": "https://localhost:8080/",
     "height": 238
    },
    "id": "tJTo-puVWg6B",
    "outputId": "442f1d0b-3c46-498b-ad98-0ba3c9e28276"
   },
   "outputs": [
    {
     "name": "stdout",
     "output_type": "stream",
     "text": [
      "Обучающая выборка (первые 5 строк):\n"
     ]
    },
    {
     "data": {
      "text/plain": [
       "array([['0.9444444444444444', '0.25', '1.0', '0.9166666666666666',\n",
       "        'Iris-virginica'],\n",
       "       ['0.41666666666666663', '0.8333333333333333',\n",
       "        '0.033898305084745756', '0.04166666666666667', 'Iris-setosa'],\n",
       "       ['0.25000000000000006', '0.5833333333333333',\n",
       "        '0.06779661016949151', '0.04166666666666667', 'Iris-setosa'],\n",
       "       ['0.4999999999999999', '0.41666666666666663',\n",
       "        '0.6101694915254237', '0.5416666666666666', 'Iris-versicolor'],\n",
       "       ['0.4722222222222222', '0.2916666666666667', '0.6949152542372881',\n",
       "        '0.625', 'Iris-versicolor']], dtype='<U32')"
      ]
     },
     "execution_count": 507,
     "metadata": {},
     "output_type": "execute_result"
    }
   ],
   "source": [
    "print(\"Обучающая выборка (первые 5 строк):\")\n",
    "train_df_norm[:5]"
   ]
  },
  {
   "cell_type": "code",
   "execution_count": 508,
   "metadata": {
    "colab": {
     "base_uri": "https://localhost:8080/",
     "height": 238
    },
    "id": "dwmv17GSWkx4",
    "outputId": "064d82c9-ce40-4028-b040-c15a95df7b3c"
   },
   "outputs": [
    {
     "name": "stdout",
     "output_type": "stream",
     "text": [
      "Тестовая выборка (первые 5 строк):\n"
     ]
    },
    {
     "data": {
      "text/plain": [
       "array([['0.22222222222222213', '0.7499999999999998',\n",
       "        '0.15254237288135591', '0.12500000000000003', 'Iris-setosa'],\n",
       "       ['0.9166666666666665', '0.41666666666666663',\n",
       "        '0.9491525423728813', '0.8333333333333334', 'Iris-virginica'],\n",
       "       ['0.11111111111111119', '0.5', '0.1016949152542373',\n",
       "        '0.04166666666666667', 'Iris-setosa'],\n",
       "       ['0.41666666666666663', '0.2916666666666667',\n",
       "        '0.6949152542372881', '0.75', 'Iris-virginica'],\n",
       "       ['0.19444444444444448', '0.6666666666666666',\n",
       "        '0.06779661016949151', '0.04166666666666667', 'Iris-setosa']],\n",
       "      dtype='<U32')"
      ]
     },
     "execution_count": 508,
     "metadata": {},
     "output_type": "execute_result"
    }
   ],
   "source": [
    "print(\"Тестовая выборка (первые 5 строк):\")\n",
    "test_df_norm[:5]"
   ]
  },
  {
   "cell_type": "markdown",
   "metadata": {
    "id": "Ak6X3azKWK5T"
   },
   "source": [
    "## Обучение модели SVC (Support Vector Classifier)"
   ]
  },
  {
   "cell_type": "markdown",
   "metadata": {
    "id": "IStGe-OPPttM"
   },
   "source": [
    "  - Выберем один из [методов классификации](https://scikit-learn.org/stable/supervised_learning.html)\n",
    "  <br>(к примеру, [SVC](https://scikit-learn.org/stable/modules/svm.html)), <br>обучим на тренировочном датасете, оценим результат на тестовом и сделаем выводы\n"
   ]
  },
  {
   "cell_type": "code",
   "execution_count": 509,
   "metadata": {
    "colab": {
     "base_uri": "https://localhost:8080/",
     "height": 100
    },
    "id": "z41WpIrDW03j",
    "outputId": "91d960a3-4fb0-44ed-a561-115600a0ab41"
   },
   "outputs": [
    {
     "data": {
      "text/plain": [
       "array([['0.9444444444444444', '0.25', '1.0', '0.9166666666666666'],\n",
       "       ['0.41666666666666663', '0.8333333333333333',\n",
       "        '0.033898305084745756', '0.04166666666666667'],\n",
       "       ['0.25000000000000006', '0.5833333333333333',\n",
       "        '0.06779661016949151', '0.04166666666666667'],\n",
       "       ['0.4999999999999999', '0.41666666666666663',\n",
       "        '0.6101694915254237', '0.5416666666666666'],\n",
       "       ['0.4722222222222222', '0.2916666666666667', '0.6949152542372881',\n",
       "        '0.625']], dtype='<U32')"
      ]
     },
     "execution_count": 509,
     "metadata": {},
     "output_type": "execute_result"
    }
   ],
   "source": [
    "# Разделяем признаки и целевые значения\n",
    "X_train = train_df_norm[:, :-1]\n",
    "y_train = train_df_norm[:, -1]\n",
    "\n",
    "X_test = test_df_norm[:, :-1]\n",
    "y_test = test_df_norm[:, -1]\n",
    "\n",
    "X_train[:5]"
   ]
  },
  {
   "cell_type": "code",
   "execution_count": 510,
   "metadata": {},
   "outputs": [
    {
     "data": {
      "text/plain": [
       "array([[0.94444444, 0.25      , 1.        , 0.91666667],\n",
       "       [0.41666667, 0.83333333, 0.03389831, 0.04166667],\n",
       "       [0.25      , 0.58333333, 0.06779661, 0.04166667],\n",
       "       [0.5       , 0.41666667, 0.61016949, 0.54166667],\n",
       "       [0.47222222, 0.29166667, 0.69491525, 0.625     ]])"
      ]
     },
     "execution_count": 510,
     "metadata": {},
     "output_type": "execute_result"
    }
   ],
   "source": [
    "\n",
    "# Преобразуем данные в числовой тип\n",
    "X_train = X_train.astype(float)\n",
    "X_test = X_test.astype(float)\n",
    "\n",
    "X_train[:5]"
   ]
  },
  {
   "cell_type": "code",
   "execution_count": 511,
   "metadata": {},
   "outputs": [
    {
     "data": {
      "text/html": [
       "<style>#sk-container-id-49 {\n",
       "  /* Definition of color scheme common for light and dark mode */\n",
       "  --sklearn-color-text: black;\n",
       "  --sklearn-color-line: gray;\n",
       "  /* Definition of color scheme for unfitted estimators */\n",
       "  --sklearn-color-unfitted-level-0: #fff5e6;\n",
       "  --sklearn-color-unfitted-level-1: #f6e4d2;\n",
       "  --sklearn-color-unfitted-level-2: #ffe0b3;\n",
       "  --sklearn-color-unfitted-level-3: chocolate;\n",
       "  /* Definition of color scheme for fitted estimators */\n",
       "  --sklearn-color-fitted-level-0: #f0f8ff;\n",
       "  --sklearn-color-fitted-level-1: #d4ebff;\n",
       "  --sklearn-color-fitted-level-2: #b3dbfd;\n",
       "  --sklearn-color-fitted-level-3: cornflowerblue;\n",
       "\n",
       "  /* Specific color for light theme */\n",
       "  --sklearn-color-text-on-default-background: var(--sg-text-color, var(--theme-code-foreground, var(--jp-content-font-color1, black)));\n",
       "  --sklearn-color-background: var(--sg-background-color, var(--theme-background, var(--jp-layout-color0, white)));\n",
       "  --sklearn-color-border-box: var(--sg-text-color, var(--theme-code-foreground, var(--jp-content-font-color1, black)));\n",
       "  --sklearn-color-icon: #696969;\n",
       "\n",
       "  @media (prefers-color-scheme: dark) {\n",
       "    /* Redefinition of color scheme for dark theme */\n",
       "    --sklearn-color-text-on-default-background: var(--sg-text-color, var(--theme-code-foreground, var(--jp-content-font-color1, white)));\n",
       "    --sklearn-color-background: var(--sg-background-color, var(--theme-background, var(--jp-layout-color0, #111)));\n",
       "    --sklearn-color-border-box: var(--sg-text-color, var(--theme-code-foreground, var(--jp-content-font-color1, white)));\n",
       "    --sklearn-color-icon: #878787;\n",
       "  }\n",
       "}\n",
       "\n",
       "#sk-container-id-49 {\n",
       "  color: var(--sklearn-color-text);\n",
       "}\n",
       "\n",
       "#sk-container-id-49 pre {\n",
       "  padding: 0;\n",
       "}\n",
       "\n",
       "#sk-container-id-49 input.sk-hidden--visually {\n",
       "  border: 0;\n",
       "  clip: rect(1px 1px 1px 1px);\n",
       "  clip: rect(1px, 1px, 1px, 1px);\n",
       "  height: 1px;\n",
       "  margin: -1px;\n",
       "  overflow: hidden;\n",
       "  padding: 0;\n",
       "  position: absolute;\n",
       "  width: 1px;\n",
       "}\n",
       "\n",
       "#sk-container-id-49 div.sk-dashed-wrapped {\n",
       "  border: 1px dashed var(--sklearn-color-line);\n",
       "  margin: 0 0.4em 0.5em 0.4em;\n",
       "  box-sizing: border-box;\n",
       "  padding-bottom: 0.4em;\n",
       "  background-color: var(--sklearn-color-background);\n",
       "}\n",
       "\n",
       "#sk-container-id-49 div.sk-container {\n",
       "  /* jupyter's `normalize.less` sets `[hidden] { display: none; }`\n",
       "     but bootstrap.min.css set `[hidden] { display: none !important; }`\n",
       "     so we also need the `!important` here to be able to override the\n",
       "     default hidden behavior on the sphinx rendered scikit-learn.org.\n",
       "     See: https://github.com/scikit-learn/scikit-learn/issues/21755 */\n",
       "  display: inline-block !important;\n",
       "  position: relative;\n",
       "}\n",
       "\n",
       "#sk-container-id-49 div.sk-text-repr-fallback {\n",
       "  display: none;\n",
       "}\n",
       "\n",
       "div.sk-parallel-item,\n",
       "div.sk-serial,\n",
       "div.sk-item {\n",
       "  /* draw centered vertical line to link estimators */\n",
       "  background-image: linear-gradient(var(--sklearn-color-text-on-default-background), var(--sklearn-color-text-on-default-background));\n",
       "  background-size: 2px 100%;\n",
       "  background-repeat: no-repeat;\n",
       "  background-position: center center;\n",
       "}\n",
       "\n",
       "/* Parallel-specific style estimator block */\n",
       "\n",
       "#sk-container-id-49 div.sk-parallel-item::after {\n",
       "  content: \"\";\n",
       "  width: 100%;\n",
       "  border-bottom: 2px solid var(--sklearn-color-text-on-default-background);\n",
       "  flex-grow: 1;\n",
       "}\n",
       "\n",
       "#sk-container-id-49 div.sk-parallel {\n",
       "  display: flex;\n",
       "  align-items: stretch;\n",
       "  justify-content: center;\n",
       "  background-color: var(--sklearn-color-background);\n",
       "  position: relative;\n",
       "}\n",
       "\n",
       "#sk-container-id-49 div.sk-parallel-item {\n",
       "  display: flex;\n",
       "  flex-direction: column;\n",
       "}\n",
       "\n",
       "#sk-container-id-49 div.sk-parallel-item:first-child::after {\n",
       "  align-self: flex-end;\n",
       "  width: 50%;\n",
       "}\n",
       "\n",
       "#sk-container-id-49 div.sk-parallel-item:last-child::after {\n",
       "  align-self: flex-start;\n",
       "  width: 50%;\n",
       "}\n",
       "\n",
       "#sk-container-id-49 div.sk-parallel-item:only-child::after {\n",
       "  width: 0;\n",
       "}\n",
       "\n",
       "/* Serial-specific style estimator block */\n",
       "\n",
       "#sk-container-id-49 div.sk-serial {\n",
       "  display: flex;\n",
       "  flex-direction: column;\n",
       "  align-items: center;\n",
       "  background-color: var(--sklearn-color-background);\n",
       "  padding-right: 1em;\n",
       "  padding-left: 1em;\n",
       "}\n",
       "\n",
       "\n",
       "/* Toggleable style: style used for estimator/Pipeline/ColumnTransformer box that is\n",
       "clickable and can be expanded/collapsed.\n",
       "- Pipeline and ColumnTransformer use this feature and define the default style\n",
       "- Estimators will overwrite some part of the style using the `sk-estimator` class\n",
       "*/\n",
       "\n",
       "/* Pipeline and ColumnTransformer style (default) */\n",
       "\n",
       "#sk-container-id-49 div.sk-toggleable {\n",
       "  /* Default theme specific background. It is overwritten whether we have a\n",
       "  specific estimator or a Pipeline/ColumnTransformer */\n",
       "  background-color: var(--sklearn-color-background);\n",
       "}\n",
       "\n",
       "/* Toggleable label */\n",
       "#sk-container-id-49 label.sk-toggleable__label {\n",
       "  cursor: pointer;\n",
       "  display: block;\n",
       "  width: 100%;\n",
       "  margin-bottom: 0;\n",
       "  padding: 0.5em;\n",
       "  box-sizing: border-box;\n",
       "  text-align: center;\n",
       "}\n",
       "\n",
       "#sk-container-id-49 label.sk-toggleable__label-arrow:before {\n",
       "  /* Arrow on the left of the label */\n",
       "  content: \"▸\";\n",
       "  float: left;\n",
       "  margin-right: 0.25em;\n",
       "  color: var(--sklearn-color-icon);\n",
       "}\n",
       "\n",
       "#sk-container-id-49 label.sk-toggleable__label-arrow:hover:before {\n",
       "  color: var(--sklearn-color-text);\n",
       "}\n",
       "\n",
       "/* Toggleable content - dropdown */\n",
       "\n",
       "#sk-container-id-49 div.sk-toggleable__content {\n",
       "  max-height: 0;\n",
       "  max-width: 0;\n",
       "  overflow: hidden;\n",
       "  text-align: left;\n",
       "  /* unfitted */\n",
       "  background-color: var(--sklearn-color-unfitted-level-0);\n",
       "}\n",
       "\n",
       "#sk-container-id-49 div.sk-toggleable__content.fitted {\n",
       "  /* fitted */\n",
       "  background-color: var(--sklearn-color-fitted-level-0);\n",
       "}\n",
       "\n",
       "#sk-container-id-49 div.sk-toggleable__content pre {\n",
       "  margin: 0.2em;\n",
       "  border-radius: 0.25em;\n",
       "  color: var(--sklearn-color-text);\n",
       "  /* unfitted */\n",
       "  background-color: var(--sklearn-color-unfitted-level-0);\n",
       "}\n",
       "\n",
       "#sk-container-id-49 div.sk-toggleable__content.fitted pre {\n",
       "  /* unfitted */\n",
       "  background-color: var(--sklearn-color-fitted-level-0);\n",
       "}\n",
       "\n",
       "#sk-container-id-49 input.sk-toggleable__control:checked~div.sk-toggleable__content {\n",
       "  /* Expand drop-down */\n",
       "  max-height: 200px;\n",
       "  max-width: 100%;\n",
       "  overflow: auto;\n",
       "}\n",
       "\n",
       "#sk-container-id-49 input.sk-toggleable__control:checked~label.sk-toggleable__label-arrow:before {\n",
       "  content: \"▾\";\n",
       "}\n",
       "\n",
       "/* Pipeline/ColumnTransformer-specific style */\n",
       "\n",
       "#sk-container-id-49 div.sk-label input.sk-toggleable__control:checked~label.sk-toggleable__label {\n",
       "  color: var(--sklearn-color-text);\n",
       "  background-color: var(--sklearn-color-unfitted-level-2);\n",
       "}\n",
       "\n",
       "#sk-container-id-49 div.sk-label.fitted input.sk-toggleable__control:checked~label.sk-toggleable__label {\n",
       "  background-color: var(--sklearn-color-fitted-level-2);\n",
       "}\n",
       "\n",
       "/* Estimator-specific style */\n",
       "\n",
       "/* Colorize estimator box */\n",
       "#sk-container-id-49 div.sk-estimator input.sk-toggleable__control:checked~label.sk-toggleable__label {\n",
       "  /* unfitted */\n",
       "  background-color: var(--sklearn-color-unfitted-level-2);\n",
       "}\n",
       "\n",
       "#sk-container-id-49 div.sk-estimator.fitted input.sk-toggleable__control:checked~label.sk-toggleable__label {\n",
       "  /* fitted */\n",
       "  background-color: var(--sklearn-color-fitted-level-2);\n",
       "}\n",
       "\n",
       "#sk-container-id-49 div.sk-label label.sk-toggleable__label,\n",
       "#sk-container-id-49 div.sk-label label {\n",
       "  /* The background is the default theme color */\n",
       "  color: var(--sklearn-color-text-on-default-background);\n",
       "}\n",
       "\n",
       "/* On hover, darken the color of the background */\n",
       "#sk-container-id-49 div.sk-label:hover label.sk-toggleable__label {\n",
       "  color: var(--sklearn-color-text);\n",
       "  background-color: var(--sklearn-color-unfitted-level-2);\n",
       "}\n",
       "\n",
       "/* Label box, darken color on hover, fitted */\n",
       "#sk-container-id-49 div.sk-label.fitted:hover label.sk-toggleable__label.fitted {\n",
       "  color: var(--sklearn-color-text);\n",
       "  background-color: var(--sklearn-color-fitted-level-2);\n",
       "}\n",
       "\n",
       "/* Estimator label */\n",
       "\n",
       "#sk-container-id-49 div.sk-label label {\n",
       "  font-family: monospace;\n",
       "  font-weight: bold;\n",
       "  display: inline-block;\n",
       "  line-height: 1.2em;\n",
       "}\n",
       "\n",
       "#sk-container-id-49 div.sk-label-container {\n",
       "  text-align: center;\n",
       "}\n",
       "\n",
       "/* Estimator-specific */\n",
       "#sk-container-id-49 div.sk-estimator {\n",
       "  font-family: monospace;\n",
       "  border: 1px dotted var(--sklearn-color-border-box);\n",
       "  border-radius: 0.25em;\n",
       "  box-sizing: border-box;\n",
       "  margin-bottom: 0.5em;\n",
       "  /* unfitted */\n",
       "  background-color: var(--sklearn-color-unfitted-level-0);\n",
       "}\n",
       "\n",
       "#sk-container-id-49 div.sk-estimator.fitted {\n",
       "  /* fitted */\n",
       "  background-color: var(--sklearn-color-fitted-level-0);\n",
       "}\n",
       "\n",
       "/* on hover */\n",
       "#sk-container-id-49 div.sk-estimator:hover {\n",
       "  /* unfitted */\n",
       "  background-color: var(--sklearn-color-unfitted-level-2);\n",
       "}\n",
       "\n",
       "#sk-container-id-49 div.sk-estimator.fitted:hover {\n",
       "  /* fitted */\n",
       "  background-color: var(--sklearn-color-fitted-level-2);\n",
       "}\n",
       "\n",
       "/* Specification for estimator info (e.g. \"i\" and \"?\") */\n",
       "\n",
       "/* Common style for \"i\" and \"?\" */\n",
       "\n",
       ".sk-estimator-doc-link,\n",
       "a:link.sk-estimator-doc-link,\n",
       "a:visited.sk-estimator-doc-link {\n",
       "  float: right;\n",
       "  font-size: smaller;\n",
       "  line-height: 1em;\n",
       "  font-family: monospace;\n",
       "  background-color: var(--sklearn-color-background);\n",
       "  border-radius: 1em;\n",
       "  height: 1em;\n",
       "  width: 1em;\n",
       "  text-decoration: none !important;\n",
       "  margin-left: 1ex;\n",
       "  /* unfitted */\n",
       "  border: var(--sklearn-color-unfitted-level-1) 1pt solid;\n",
       "  color: var(--sklearn-color-unfitted-level-1);\n",
       "}\n",
       "\n",
       ".sk-estimator-doc-link.fitted,\n",
       "a:link.sk-estimator-doc-link.fitted,\n",
       "a:visited.sk-estimator-doc-link.fitted {\n",
       "  /* fitted */\n",
       "  border: var(--sklearn-color-fitted-level-1) 1pt solid;\n",
       "  color: var(--sklearn-color-fitted-level-1);\n",
       "}\n",
       "\n",
       "/* On hover */\n",
       "div.sk-estimator:hover .sk-estimator-doc-link:hover,\n",
       ".sk-estimator-doc-link:hover,\n",
       "div.sk-label-container:hover .sk-estimator-doc-link:hover,\n",
       ".sk-estimator-doc-link:hover {\n",
       "  /* unfitted */\n",
       "  background-color: var(--sklearn-color-unfitted-level-3);\n",
       "  color: var(--sklearn-color-background);\n",
       "  text-decoration: none;\n",
       "}\n",
       "\n",
       "div.sk-estimator.fitted:hover .sk-estimator-doc-link.fitted:hover,\n",
       ".sk-estimator-doc-link.fitted:hover,\n",
       "div.sk-label-container:hover .sk-estimator-doc-link.fitted:hover,\n",
       ".sk-estimator-doc-link.fitted:hover {\n",
       "  /* fitted */\n",
       "  background-color: var(--sklearn-color-fitted-level-3);\n",
       "  color: var(--sklearn-color-background);\n",
       "  text-decoration: none;\n",
       "}\n",
       "\n",
       "/* Span, style for the box shown on hovering the info icon */\n",
       ".sk-estimator-doc-link span {\n",
       "  display: none;\n",
       "  z-index: 9999;\n",
       "  position: relative;\n",
       "  font-weight: normal;\n",
       "  right: .2ex;\n",
       "  padding: .5ex;\n",
       "  margin: .5ex;\n",
       "  width: min-content;\n",
       "  min-width: 20ex;\n",
       "  max-width: 50ex;\n",
       "  color: var(--sklearn-color-text);\n",
       "  box-shadow: 2pt 2pt 4pt #999;\n",
       "  /* unfitted */\n",
       "  background: var(--sklearn-color-unfitted-level-0);\n",
       "  border: .5pt solid var(--sklearn-color-unfitted-level-3);\n",
       "}\n",
       "\n",
       ".sk-estimator-doc-link.fitted span {\n",
       "  /* fitted */\n",
       "  background: var(--sklearn-color-fitted-level-0);\n",
       "  border: var(--sklearn-color-fitted-level-3);\n",
       "}\n",
       "\n",
       ".sk-estimator-doc-link:hover span {\n",
       "  display: block;\n",
       "}\n",
       "\n",
       "/* \"?\"-specific style due to the `<a>` HTML tag */\n",
       "\n",
       "#sk-container-id-49 a.estimator_doc_link {\n",
       "  float: right;\n",
       "  font-size: 1rem;\n",
       "  line-height: 1em;\n",
       "  font-family: monospace;\n",
       "  background-color: var(--sklearn-color-background);\n",
       "  border-radius: 1rem;\n",
       "  height: 1rem;\n",
       "  width: 1rem;\n",
       "  text-decoration: none;\n",
       "  /* unfitted */\n",
       "  color: var(--sklearn-color-unfitted-level-1);\n",
       "  border: var(--sklearn-color-unfitted-level-1) 1pt solid;\n",
       "}\n",
       "\n",
       "#sk-container-id-49 a.estimator_doc_link.fitted {\n",
       "  /* fitted */\n",
       "  border: var(--sklearn-color-fitted-level-1) 1pt solid;\n",
       "  color: var(--sklearn-color-fitted-level-1);\n",
       "}\n",
       "\n",
       "/* On hover */\n",
       "#sk-container-id-49 a.estimator_doc_link:hover {\n",
       "  /* unfitted */\n",
       "  background-color: var(--sklearn-color-unfitted-level-3);\n",
       "  color: var(--sklearn-color-background);\n",
       "  text-decoration: none;\n",
       "}\n",
       "\n",
       "#sk-container-id-49 a.estimator_doc_link.fitted:hover {\n",
       "  /* fitted */\n",
       "  background-color: var(--sklearn-color-fitted-level-3);\n",
       "}\n",
       "</style><div id=\"sk-container-id-49\" class=\"sk-top-container\"><div class=\"sk-text-repr-fallback\"><pre>SVC()</pre><b>In a Jupyter environment, please rerun this cell to show the HTML representation or trust the notebook. <br />On GitHub, the HTML representation is unable to render, please try loading this page with nbviewer.org.</b></div><div class=\"sk-container\" hidden><div class=\"sk-item\"><div class=\"sk-estimator fitted sk-toggleable\"><input class=\"sk-toggleable__control sk-hidden--visually\" id=\"sk-estimator-id-49\" type=\"checkbox\" checked><label for=\"sk-estimator-id-49\" class=\"sk-toggleable__label fitted sk-toggleable__label-arrow fitted\">&nbsp;&nbsp;SVC<a class=\"sk-estimator-doc-link fitted\" rel=\"noreferrer\" target=\"_blank\" href=\"https://scikit-learn.org/1.4/modules/generated/sklearn.svm.SVC.html\">?<span>Documentation for SVC</span></a><span class=\"sk-estimator-doc-link fitted\">i<span>Fitted</span></span></label><div class=\"sk-toggleable__content fitted\"><pre>SVC()</pre></div> </div></div></div></div>"
      ],
      "text/plain": [
       "SVC()"
      ]
     },
     "execution_count": 511,
     "metadata": {},
     "output_type": "execute_result"
    }
   ],
   "source": [
    "\n",
    "# Создаем модель SVC\n",
    "model = SVC()\n",
    "\n",
    "# Обучаем модель на тренировочном наборе данных\n",
    "model.fit(X_train, y_train)"
   ]
  },
  {
   "cell_type": "markdown",
   "metadata": {
    "id": "m5KlUnDsWXhA"
   },
   "source": [
    "## Предсказания модели и их оценка"
   ]
  },
  {
   "cell_type": "code",
   "execution_count": 512,
   "metadata": {
    "colab": {
     "base_uri": "https://localhost:8080/"
    },
    "id": "Ng8I8VN-W9mi",
    "outputId": "ea8b551d-51b1-4cc6-fa9a-35b62073ec47"
   },
   "outputs": [
    {
     "name": "stdout",
     "output_type": "stream",
     "text": [
      "Accuracy: 0.9333\n",
      "Precision: 0.9481\n",
      "Recall: 0.9333\n",
      "F1-Score: 0.9349\n"
     ]
    }
   ],
   "source": [
    "# Прогнозируем результаты на тестовом наборе данных\n",
    "y_pred = model.predict(X_test)\n",
    "\n",
    "# Оцениваем точность модели на тестовом наборе\n",
    "accuracy = accuracy_score(y_test, y_pred)\n",
    "print(f\"Accuracy: {accuracy:.4f}\")\n",
    "\n",
    "# Вычисляем Precision\n",
    "precision = precision_score(y_test, y_pred, average='weighted')\n",
    "print(f\"Precision: {precision:.4f}\")\n",
    "\n",
    "# Вычисляем Recall\n",
    "recall = recall_score(y_test, y_pred, average='weighted')\n",
    "print(f\"Recall: {recall:.4f}\")\n",
    "\n",
    "# Вычисляем F1-Score\n",
    "f1 = f1_score(y_test, y_pred, average='weighted')\n",
    "print(f\"F1-Score: {f1:.4f}\")"
   ]
  },
  {
   "cell_type": "markdown",
   "metadata": {
    "id": "x5GKakguU6jS"
   },
   "source": [
    "Результаты модели на тестовом наборе данных показывают, что SVC хорошо справляется с задачей классификации в данном случае, показывая сбалансированную производительность по всем метрикам."
   ]
  },
  {
   "cell_type": "markdown",
   "metadata": {
    "id": "BRYUA-YEXCEg"
   },
   "source": [
    "## Экспиремент 1. Попробуем обучить модель без нормализации данных"
   ]
  },
  {
   "cell_type": "markdown",
   "metadata": {
    "id": "DFZCqXruayqJ"
   },
   "source": [
    "Датасет Iris — относительно простой для классификации. Даже без нормализации SVM может успешно обучиться, особенно если данные хорошо разделимы в исходном пространстве. Добавим искусственный дисбаланс."
   ]
  },
  {
   "cell_type": "code",
   "execution_count": 513,
   "metadata": {
    "id": "eevLF2dvavq-"
   },
   "outputs": [],
   "source": [
    "# Создаем копию X_train\n",
    "X_train_imbalance = X_train.copy()\n",
    "\n",
    "# Умножаем первый столбец (sepal_length) на 1000\n",
    "X_train_imbalance[:, 0] *= 1000"
   ]
  },
  {
   "cell_type": "code",
   "execution_count": 514,
   "metadata": {},
   "outputs": [
    {
     "data": {
      "text/plain": [
       "array([[9.44444444e+02, 2.50000000e-01, 1.00000000e+00, 9.16666667e-01],\n",
       "       [4.16666667e+02, 8.33333333e-01, 3.38983051e-02, 4.16666667e-02],\n",
       "       [2.50000000e+02, 5.83333333e-01, 6.77966102e-02, 4.16666667e-02],\n",
       "       [5.00000000e+02, 4.16666667e-01, 6.10169492e-01, 5.41666667e-01],\n",
       "       [4.72222222e+02, 2.91666667e-01, 6.94915254e-01, 6.25000000e-01]])"
      ]
     },
     "execution_count": 514,
     "metadata": {},
     "output_type": "execute_result"
    }
   ],
   "source": [
    "X_train_imbalance[:5]"
   ]
  },
  {
   "cell_type": "code",
   "execution_count": 515,
   "metadata": {
    "colab": {
     "base_uri": "https://localhost:8080/",
     "height": 100
    },
    "id": "6Gg6t7LrQMmy",
    "outputId": "d6f2370d-0a82-4561-9297-727f2bcd91b0"
   },
   "outputs": [
    {
     "data": {
      "text/html": [
       "<style>#sk-container-id-50 {\n",
       "  /* Definition of color scheme common for light and dark mode */\n",
       "  --sklearn-color-text: black;\n",
       "  --sklearn-color-line: gray;\n",
       "  /* Definition of color scheme for unfitted estimators */\n",
       "  --sklearn-color-unfitted-level-0: #fff5e6;\n",
       "  --sklearn-color-unfitted-level-1: #f6e4d2;\n",
       "  --sklearn-color-unfitted-level-2: #ffe0b3;\n",
       "  --sklearn-color-unfitted-level-3: chocolate;\n",
       "  /* Definition of color scheme for fitted estimators */\n",
       "  --sklearn-color-fitted-level-0: #f0f8ff;\n",
       "  --sklearn-color-fitted-level-1: #d4ebff;\n",
       "  --sklearn-color-fitted-level-2: #b3dbfd;\n",
       "  --sklearn-color-fitted-level-3: cornflowerblue;\n",
       "\n",
       "  /* Specific color for light theme */\n",
       "  --sklearn-color-text-on-default-background: var(--sg-text-color, var(--theme-code-foreground, var(--jp-content-font-color1, black)));\n",
       "  --sklearn-color-background: var(--sg-background-color, var(--theme-background, var(--jp-layout-color0, white)));\n",
       "  --sklearn-color-border-box: var(--sg-text-color, var(--theme-code-foreground, var(--jp-content-font-color1, black)));\n",
       "  --sklearn-color-icon: #696969;\n",
       "\n",
       "  @media (prefers-color-scheme: dark) {\n",
       "    /* Redefinition of color scheme for dark theme */\n",
       "    --sklearn-color-text-on-default-background: var(--sg-text-color, var(--theme-code-foreground, var(--jp-content-font-color1, white)));\n",
       "    --sklearn-color-background: var(--sg-background-color, var(--theme-background, var(--jp-layout-color0, #111)));\n",
       "    --sklearn-color-border-box: var(--sg-text-color, var(--theme-code-foreground, var(--jp-content-font-color1, white)));\n",
       "    --sklearn-color-icon: #878787;\n",
       "  }\n",
       "}\n",
       "\n",
       "#sk-container-id-50 {\n",
       "  color: var(--sklearn-color-text);\n",
       "}\n",
       "\n",
       "#sk-container-id-50 pre {\n",
       "  padding: 0;\n",
       "}\n",
       "\n",
       "#sk-container-id-50 input.sk-hidden--visually {\n",
       "  border: 0;\n",
       "  clip: rect(1px 1px 1px 1px);\n",
       "  clip: rect(1px, 1px, 1px, 1px);\n",
       "  height: 1px;\n",
       "  margin: -1px;\n",
       "  overflow: hidden;\n",
       "  padding: 0;\n",
       "  position: absolute;\n",
       "  width: 1px;\n",
       "}\n",
       "\n",
       "#sk-container-id-50 div.sk-dashed-wrapped {\n",
       "  border: 1px dashed var(--sklearn-color-line);\n",
       "  margin: 0 0.4em 0.5em 0.4em;\n",
       "  box-sizing: border-box;\n",
       "  padding-bottom: 0.4em;\n",
       "  background-color: var(--sklearn-color-background);\n",
       "}\n",
       "\n",
       "#sk-container-id-50 div.sk-container {\n",
       "  /* jupyter's `normalize.less` sets `[hidden] { display: none; }`\n",
       "     but bootstrap.min.css set `[hidden] { display: none !important; }`\n",
       "     so we also need the `!important` here to be able to override the\n",
       "     default hidden behavior on the sphinx rendered scikit-learn.org.\n",
       "     See: https://github.com/scikit-learn/scikit-learn/issues/21755 */\n",
       "  display: inline-block !important;\n",
       "  position: relative;\n",
       "}\n",
       "\n",
       "#sk-container-id-50 div.sk-text-repr-fallback {\n",
       "  display: none;\n",
       "}\n",
       "\n",
       "div.sk-parallel-item,\n",
       "div.sk-serial,\n",
       "div.sk-item {\n",
       "  /* draw centered vertical line to link estimators */\n",
       "  background-image: linear-gradient(var(--sklearn-color-text-on-default-background), var(--sklearn-color-text-on-default-background));\n",
       "  background-size: 2px 100%;\n",
       "  background-repeat: no-repeat;\n",
       "  background-position: center center;\n",
       "}\n",
       "\n",
       "/* Parallel-specific style estimator block */\n",
       "\n",
       "#sk-container-id-50 div.sk-parallel-item::after {\n",
       "  content: \"\";\n",
       "  width: 100%;\n",
       "  border-bottom: 2px solid var(--sklearn-color-text-on-default-background);\n",
       "  flex-grow: 1;\n",
       "}\n",
       "\n",
       "#sk-container-id-50 div.sk-parallel {\n",
       "  display: flex;\n",
       "  align-items: stretch;\n",
       "  justify-content: center;\n",
       "  background-color: var(--sklearn-color-background);\n",
       "  position: relative;\n",
       "}\n",
       "\n",
       "#sk-container-id-50 div.sk-parallel-item {\n",
       "  display: flex;\n",
       "  flex-direction: column;\n",
       "}\n",
       "\n",
       "#sk-container-id-50 div.sk-parallel-item:first-child::after {\n",
       "  align-self: flex-end;\n",
       "  width: 50%;\n",
       "}\n",
       "\n",
       "#sk-container-id-50 div.sk-parallel-item:last-child::after {\n",
       "  align-self: flex-start;\n",
       "  width: 50%;\n",
       "}\n",
       "\n",
       "#sk-container-id-50 div.sk-parallel-item:only-child::after {\n",
       "  width: 0;\n",
       "}\n",
       "\n",
       "/* Serial-specific style estimator block */\n",
       "\n",
       "#sk-container-id-50 div.sk-serial {\n",
       "  display: flex;\n",
       "  flex-direction: column;\n",
       "  align-items: center;\n",
       "  background-color: var(--sklearn-color-background);\n",
       "  padding-right: 1em;\n",
       "  padding-left: 1em;\n",
       "}\n",
       "\n",
       "\n",
       "/* Toggleable style: style used for estimator/Pipeline/ColumnTransformer box that is\n",
       "clickable and can be expanded/collapsed.\n",
       "- Pipeline and ColumnTransformer use this feature and define the default style\n",
       "- Estimators will overwrite some part of the style using the `sk-estimator` class\n",
       "*/\n",
       "\n",
       "/* Pipeline and ColumnTransformer style (default) */\n",
       "\n",
       "#sk-container-id-50 div.sk-toggleable {\n",
       "  /* Default theme specific background. It is overwritten whether we have a\n",
       "  specific estimator or a Pipeline/ColumnTransformer */\n",
       "  background-color: var(--sklearn-color-background);\n",
       "}\n",
       "\n",
       "/* Toggleable label */\n",
       "#sk-container-id-50 label.sk-toggleable__label {\n",
       "  cursor: pointer;\n",
       "  display: block;\n",
       "  width: 100%;\n",
       "  margin-bottom: 0;\n",
       "  padding: 0.5em;\n",
       "  box-sizing: border-box;\n",
       "  text-align: center;\n",
       "}\n",
       "\n",
       "#sk-container-id-50 label.sk-toggleable__label-arrow:before {\n",
       "  /* Arrow on the left of the label */\n",
       "  content: \"▸\";\n",
       "  float: left;\n",
       "  margin-right: 0.25em;\n",
       "  color: var(--sklearn-color-icon);\n",
       "}\n",
       "\n",
       "#sk-container-id-50 label.sk-toggleable__label-arrow:hover:before {\n",
       "  color: var(--sklearn-color-text);\n",
       "}\n",
       "\n",
       "/* Toggleable content - dropdown */\n",
       "\n",
       "#sk-container-id-50 div.sk-toggleable__content {\n",
       "  max-height: 0;\n",
       "  max-width: 0;\n",
       "  overflow: hidden;\n",
       "  text-align: left;\n",
       "  /* unfitted */\n",
       "  background-color: var(--sklearn-color-unfitted-level-0);\n",
       "}\n",
       "\n",
       "#sk-container-id-50 div.sk-toggleable__content.fitted {\n",
       "  /* fitted */\n",
       "  background-color: var(--sklearn-color-fitted-level-0);\n",
       "}\n",
       "\n",
       "#sk-container-id-50 div.sk-toggleable__content pre {\n",
       "  margin: 0.2em;\n",
       "  border-radius: 0.25em;\n",
       "  color: var(--sklearn-color-text);\n",
       "  /* unfitted */\n",
       "  background-color: var(--sklearn-color-unfitted-level-0);\n",
       "}\n",
       "\n",
       "#sk-container-id-50 div.sk-toggleable__content.fitted pre {\n",
       "  /* unfitted */\n",
       "  background-color: var(--sklearn-color-fitted-level-0);\n",
       "}\n",
       "\n",
       "#sk-container-id-50 input.sk-toggleable__control:checked~div.sk-toggleable__content {\n",
       "  /* Expand drop-down */\n",
       "  max-height: 200px;\n",
       "  max-width: 100%;\n",
       "  overflow: auto;\n",
       "}\n",
       "\n",
       "#sk-container-id-50 input.sk-toggleable__control:checked~label.sk-toggleable__label-arrow:before {\n",
       "  content: \"▾\";\n",
       "}\n",
       "\n",
       "/* Pipeline/ColumnTransformer-specific style */\n",
       "\n",
       "#sk-container-id-50 div.sk-label input.sk-toggleable__control:checked~label.sk-toggleable__label {\n",
       "  color: var(--sklearn-color-text);\n",
       "  background-color: var(--sklearn-color-unfitted-level-2);\n",
       "}\n",
       "\n",
       "#sk-container-id-50 div.sk-label.fitted input.sk-toggleable__control:checked~label.sk-toggleable__label {\n",
       "  background-color: var(--sklearn-color-fitted-level-2);\n",
       "}\n",
       "\n",
       "/* Estimator-specific style */\n",
       "\n",
       "/* Colorize estimator box */\n",
       "#sk-container-id-50 div.sk-estimator input.sk-toggleable__control:checked~label.sk-toggleable__label {\n",
       "  /* unfitted */\n",
       "  background-color: var(--sklearn-color-unfitted-level-2);\n",
       "}\n",
       "\n",
       "#sk-container-id-50 div.sk-estimator.fitted input.sk-toggleable__control:checked~label.sk-toggleable__label {\n",
       "  /* fitted */\n",
       "  background-color: var(--sklearn-color-fitted-level-2);\n",
       "}\n",
       "\n",
       "#sk-container-id-50 div.sk-label label.sk-toggleable__label,\n",
       "#sk-container-id-50 div.sk-label label {\n",
       "  /* The background is the default theme color */\n",
       "  color: var(--sklearn-color-text-on-default-background);\n",
       "}\n",
       "\n",
       "/* On hover, darken the color of the background */\n",
       "#sk-container-id-50 div.sk-label:hover label.sk-toggleable__label {\n",
       "  color: var(--sklearn-color-text);\n",
       "  background-color: var(--sklearn-color-unfitted-level-2);\n",
       "}\n",
       "\n",
       "/* Label box, darken color on hover, fitted */\n",
       "#sk-container-id-50 div.sk-label.fitted:hover label.sk-toggleable__label.fitted {\n",
       "  color: var(--sklearn-color-text);\n",
       "  background-color: var(--sklearn-color-fitted-level-2);\n",
       "}\n",
       "\n",
       "/* Estimator label */\n",
       "\n",
       "#sk-container-id-50 div.sk-label label {\n",
       "  font-family: monospace;\n",
       "  font-weight: bold;\n",
       "  display: inline-block;\n",
       "  line-height: 1.2em;\n",
       "}\n",
       "\n",
       "#sk-container-id-50 div.sk-label-container {\n",
       "  text-align: center;\n",
       "}\n",
       "\n",
       "/* Estimator-specific */\n",
       "#sk-container-id-50 div.sk-estimator {\n",
       "  font-family: monospace;\n",
       "  border: 1px dotted var(--sklearn-color-border-box);\n",
       "  border-radius: 0.25em;\n",
       "  box-sizing: border-box;\n",
       "  margin-bottom: 0.5em;\n",
       "  /* unfitted */\n",
       "  background-color: var(--sklearn-color-unfitted-level-0);\n",
       "}\n",
       "\n",
       "#sk-container-id-50 div.sk-estimator.fitted {\n",
       "  /* fitted */\n",
       "  background-color: var(--sklearn-color-fitted-level-0);\n",
       "}\n",
       "\n",
       "/* on hover */\n",
       "#sk-container-id-50 div.sk-estimator:hover {\n",
       "  /* unfitted */\n",
       "  background-color: var(--sklearn-color-unfitted-level-2);\n",
       "}\n",
       "\n",
       "#sk-container-id-50 div.sk-estimator.fitted:hover {\n",
       "  /* fitted */\n",
       "  background-color: var(--sklearn-color-fitted-level-2);\n",
       "}\n",
       "\n",
       "/* Specification for estimator info (e.g. \"i\" and \"?\") */\n",
       "\n",
       "/* Common style for \"i\" and \"?\" */\n",
       "\n",
       ".sk-estimator-doc-link,\n",
       "a:link.sk-estimator-doc-link,\n",
       "a:visited.sk-estimator-doc-link {\n",
       "  float: right;\n",
       "  font-size: smaller;\n",
       "  line-height: 1em;\n",
       "  font-family: monospace;\n",
       "  background-color: var(--sklearn-color-background);\n",
       "  border-radius: 1em;\n",
       "  height: 1em;\n",
       "  width: 1em;\n",
       "  text-decoration: none !important;\n",
       "  margin-left: 1ex;\n",
       "  /* unfitted */\n",
       "  border: var(--sklearn-color-unfitted-level-1) 1pt solid;\n",
       "  color: var(--sklearn-color-unfitted-level-1);\n",
       "}\n",
       "\n",
       ".sk-estimator-doc-link.fitted,\n",
       "a:link.sk-estimator-doc-link.fitted,\n",
       "a:visited.sk-estimator-doc-link.fitted {\n",
       "  /* fitted */\n",
       "  border: var(--sklearn-color-fitted-level-1) 1pt solid;\n",
       "  color: var(--sklearn-color-fitted-level-1);\n",
       "}\n",
       "\n",
       "/* On hover */\n",
       "div.sk-estimator:hover .sk-estimator-doc-link:hover,\n",
       ".sk-estimator-doc-link:hover,\n",
       "div.sk-label-container:hover .sk-estimator-doc-link:hover,\n",
       ".sk-estimator-doc-link:hover {\n",
       "  /* unfitted */\n",
       "  background-color: var(--sklearn-color-unfitted-level-3);\n",
       "  color: var(--sklearn-color-background);\n",
       "  text-decoration: none;\n",
       "}\n",
       "\n",
       "div.sk-estimator.fitted:hover .sk-estimator-doc-link.fitted:hover,\n",
       ".sk-estimator-doc-link.fitted:hover,\n",
       "div.sk-label-container:hover .sk-estimator-doc-link.fitted:hover,\n",
       ".sk-estimator-doc-link.fitted:hover {\n",
       "  /* fitted */\n",
       "  background-color: var(--sklearn-color-fitted-level-3);\n",
       "  color: var(--sklearn-color-background);\n",
       "  text-decoration: none;\n",
       "}\n",
       "\n",
       "/* Span, style for the box shown on hovering the info icon */\n",
       ".sk-estimator-doc-link span {\n",
       "  display: none;\n",
       "  z-index: 9999;\n",
       "  position: relative;\n",
       "  font-weight: normal;\n",
       "  right: .2ex;\n",
       "  padding: .5ex;\n",
       "  margin: .5ex;\n",
       "  width: min-content;\n",
       "  min-width: 20ex;\n",
       "  max-width: 50ex;\n",
       "  color: var(--sklearn-color-text);\n",
       "  box-shadow: 2pt 2pt 4pt #999;\n",
       "  /* unfitted */\n",
       "  background: var(--sklearn-color-unfitted-level-0);\n",
       "  border: .5pt solid var(--sklearn-color-unfitted-level-3);\n",
       "}\n",
       "\n",
       ".sk-estimator-doc-link.fitted span {\n",
       "  /* fitted */\n",
       "  background: var(--sklearn-color-fitted-level-0);\n",
       "  border: var(--sklearn-color-fitted-level-3);\n",
       "}\n",
       "\n",
       ".sk-estimator-doc-link:hover span {\n",
       "  display: block;\n",
       "}\n",
       "\n",
       "/* \"?\"-specific style due to the `<a>` HTML tag */\n",
       "\n",
       "#sk-container-id-50 a.estimator_doc_link {\n",
       "  float: right;\n",
       "  font-size: 1rem;\n",
       "  line-height: 1em;\n",
       "  font-family: monospace;\n",
       "  background-color: var(--sklearn-color-background);\n",
       "  border-radius: 1rem;\n",
       "  height: 1rem;\n",
       "  width: 1rem;\n",
       "  text-decoration: none;\n",
       "  /* unfitted */\n",
       "  color: var(--sklearn-color-unfitted-level-1);\n",
       "  border: var(--sklearn-color-unfitted-level-1) 1pt solid;\n",
       "}\n",
       "\n",
       "#sk-container-id-50 a.estimator_doc_link.fitted {\n",
       "  /* fitted */\n",
       "  border: var(--sklearn-color-fitted-level-1) 1pt solid;\n",
       "  color: var(--sklearn-color-fitted-level-1);\n",
       "}\n",
       "\n",
       "/* On hover */\n",
       "#sk-container-id-50 a.estimator_doc_link:hover {\n",
       "  /* unfitted */\n",
       "  background-color: var(--sklearn-color-unfitted-level-3);\n",
       "  color: var(--sklearn-color-background);\n",
       "  text-decoration: none;\n",
       "}\n",
       "\n",
       "#sk-container-id-50 a.estimator_doc_link.fitted:hover {\n",
       "  /* fitted */\n",
       "  background-color: var(--sklearn-color-fitted-level-3);\n",
       "}\n",
       "</style><div id=\"sk-container-id-50\" class=\"sk-top-container\"><div class=\"sk-text-repr-fallback\"><pre>SVC()</pre><b>In a Jupyter environment, please rerun this cell to show the HTML representation or trust the notebook. <br />On GitHub, the HTML representation is unable to render, please try loading this page with nbviewer.org.</b></div><div class=\"sk-container\" hidden><div class=\"sk-item\"><div class=\"sk-estimator fitted sk-toggleable\"><input class=\"sk-toggleable__control sk-hidden--visually\" id=\"sk-estimator-id-50\" type=\"checkbox\" checked><label for=\"sk-estimator-id-50\" class=\"sk-toggleable__label fitted sk-toggleable__label-arrow fitted\">&nbsp;&nbsp;SVC<a class=\"sk-estimator-doc-link fitted\" rel=\"noreferrer\" target=\"_blank\" href=\"https://scikit-learn.org/1.4/modules/generated/sklearn.svm.SVC.html\">?<span>Documentation for SVC</span></a><span class=\"sk-estimator-doc-link fitted\">i<span>Fitted</span></span></label><div class=\"sk-toggleable__content fitted\"><pre>SVC()</pre></div> </div></div></div></div>"
      ],
      "text/plain": [
       "SVC()"
      ]
     },
     "execution_count": 515,
     "metadata": {},
     "output_type": "execute_result"
    }
   ],
   "source": [
    "# Создаем модель SVC\n",
    "model_imbalance = SVC()\n",
    "\n",
    "# Обучаем модель на тренировочном наборе данных\n",
    "model_imbalance.fit(X_train_imbalance, y_train)"
   ]
  },
  {
   "cell_type": "code",
   "execution_count": 516,
   "metadata": {
    "colab": {
     "base_uri": "https://localhost:8080/"
    },
    "id": "EpbzvQ2ARjQ4",
    "outputId": "fc3ecc09-7a1f-4419-a94e-a52df6740ea4"
   },
   "outputs": [
    {
     "name": "stdout",
     "output_type": "stream",
     "text": [
      "Accuracy: 0.3000\n",
      "Precision: 0.0900\n",
      "Recall: 0.3000\n",
      "F1-Score: 0.1385\n"
     ]
    },
    {
     "name": "stderr",
     "output_type": "stream",
     "text": [
      "/Library/Frameworks/Python.framework/Versions/3.12/lib/python3.12/site-packages/sklearn/metrics/_classification.py:1509: UndefinedMetricWarning: Precision is ill-defined and being set to 0.0 in labels with no predicted samples. Use `zero_division` parameter to control this behavior.\n",
      "  _warn_prf(average, modifier, f\"{metric.capitalize()} is\", len(result))\n"
     ]
    }
   ],
   "source": [
    "# Прогнозируем результаты на тестовом наборе данных\n",
    "y_pred_imbalance = model_imbalance.predict(X_test)\n",
    "\n",
    "# Оцениваем точность модели на тестовом наборе\n",
    "accuracy_without_norm = accuracy_score(y_test, y_pred_imbalance)\n",
    "print(f\"Accuracy: {accuracy_without_norm:.4f}\")\n",
    "\n",
    "# Вычисляем Precision\n",
    "precision_without_norm = precision_score(y_test, y_pred_imbalance, average='weighted')\n",
    "print(f\"Precision: {precision_without_norm:.4f}\")\n",
    "\n",
    "# Вычисляем Recall\n",
    "recall_without_norm = recall_score(y_test, y_pred_imbalance, average='weighted')\n",
    "print(f\"Recall: {recall_without_norm:.4f}\")\n",
    "\n",
    "# Вычисляем F1-Score\n",
    "f1_without_norm = f1_score(y_test, y_pred_imbalance, average='weighted')\n",
    "print(f\"F1-Score: {f1_without_norm:.4f}\")"
   ]
  },
  {
   "cell_type": "markdown",
   "metadata": {
    "id": "6nx5G9PVWpcr"
   },
   "source": [
    "Метрики модели значительно ухудшились из-за ненормализованных данных. Без предварительной нормализации признаков различные масштабные значения могут существенно повлиять на работу модели, особенно для алгоритмов, чувствительных к масштабам, таких как SVC. В случае с ненормализованными данными, признаки с большими значениями могут доминировать в процессе обучения."
   ]
  },
  {
   "cell_type": "markdown",
   "metadata": {
    "id": "InjIOsi8YL38"
   },
   "source": [
    "## Эксперимент 2: Изменяем параметры SVC"
   ]
  },
  {
   "cell_type": "code",
   "execution_count": 517,
   "metadata": {
    "colab": {
     "base_uri": "https://localhost:8080/"
    },
    "id": "KPmE2LqSSzyO",
    "outputId": "1a0d2469-e94e-4a0b-a1ff-efe204cb8927"
   },
   "outputs": [
    {
     "name": "stdout",
     "output_type": "stream",
     "text": [
      "Базовая модель (линейное ядро):\n",
      "                 precision    recall  f1-score   support\n",
      "\n",
      "    Iris-setosa       1.00      1.00      1.00         9\n",
      "Iris-versicolor       0.64      1.00      0.78         7\n",
      " Iris-virginica       1.00      0.71      0.83        14\n",
      "\n",
      "       accuracy                           0.87        30\n",
      "      macro avg       0.88      0.90      0.87        30\n",
      "   weighted avg       0.92      0.87      0.87        30\n",
      "\n"
     ]
    }
   ],
   "source": [
    "# Базовая модель с линейным ядром\n",
    "model_base = SVC(kernel='linear')\n",
    "model_base.fit(X_train, y_train)\n",
    "\n",
    "# Предсказания\n",
    "y_pred_base = model_base.predict(X_test)\n",
    "\n",
    "# Метрики\n",
    "print(\"Базовая модель (линейное ядро):\")\n",
    "print(classification_report(y_test, y_pred_base))\n"
   ]
  },
  {
   "cell_type": "markdown",
   "metadata": {
    "id": "A4AXk7kZXi5F"
   },
   "source": [
    "Получили accuracy с линейным ядром чуть хуже, чем в случае, когда обучали с rbf ядром."
   ]
  },
  {
   "cell_type": "code",
   "execution_count": 518,
   "metadata": {
    "colab": {
     "base_uri": "https://localhost:8080/"
    },
    "id": "ikOMlYU9f0It",
    "outputId": "f7827d6e-bece-450a-82d5-5718f2905a35"
   },
   "outputs": [
    {
     "name": "stdout",
     "output_type": "stream",
     "text": [
      "Модель с RBF-ядром, коэффициентом регуляризации C = 1.0, гамма параметром gamma = 0.1:\n",
      "                 precision    recall  f1-score   support\n",
      "\n",
      "    Iris-setosa       1.00      1.00      1.00         9\n",
      "Iris-versicolor       0.58      1.00      0.74         7\n",
      " Iris-virginica       1.00      0.64      0.78        14\n",
      "\n",
      "       accuracy                           0.83        30\n",
      "      macro avg       0.86      0.88      0.84        30\n",
      "   weighted avg       0.90      0.83      0.84        30\n",
      "\n"
     ]
    }
   ],
   "source": [
    "# Модель с rbf-ядром\n",
    "model_rbf = SVC(kernel='rbf', C=1.0, gamma=0.1)\n",
    "model_rbf.fit(X_train, y_train)\n",
    "\n",
    "# Предсказания\n",
    "y_pred_rbf = model_rbf.predict(X_test)\n",
    "\n",
    "# Метрики\n",
    "print(\"Модель с RBF-ядром, коэффициентом регуляризации C = 1.0, гамма параметром gamma = 0.1:\")\n",
    "print(classification_report(y_test, y_pred_rbf))\n"
   ]
  },
  {
   "cell_type": "markdown",
   "metadata": {
    "id": "TPCqUMkSYMKq"
   },
   "source": [
    "- При gamma=0.1 модель будет использовать ядро, которое имеет относительно широкое влияние. Это может привести к недообучению, когда модель слишком сильно обобщает данные, не учитывая важные различия между примерами.\n",
    "- Параметр C контролирует степень наказания за ошибки классификации. Чем выше C, тем сильнее модель будет стремиться минимизировать ошибки на обучающем наборе данных, даже если это приводит к более сложным гиперплоскостям и возможному перебучению. В нашем случае C=1.0 это стандартное значение. При C = 1.0 модель будет стремиться к оптимальному балансу между минимизацией ошибок на обучающем наборе данных и простотой модели (сильно подстраиваться под данные не будет).\n"
   ]
  },
  {
   "cell_type": "code",
   "execution_count": 519,
   "metadata": {
    "colab": {
     "base_uri": "https://localhost:8080/"
    },
    "id": "rGlKHvQFf1mE",
    "outputId": "81519cb7-5ad8-421d-e28f-09b8fcc4f840"
   },
   "outputs": [
    {
     "name": "stdout",
     "output_type": "stream",
     "text": [
      "Модель с высокой регуляризацией (C=10):\n",
      "                 precision    recall  f1-score   support\n",
      "\n",
      "    Iris-setosa       1.00      1.00      1.00         9\n",
      "Iris-versicolor       0.64      1.00      0.78         7\n",
      " Iris-virginica       1.00      0.71      0.83        14\n",
      "\n",
      "       accuracy                           0.87        30\n",
      "      macro avg       0.88      0.90      0.87        30\n",
      "   weighted avg       0.92      0.87      0.87        30\n",
      "\n"
     ]
    }
   ],
   "source": [
    "# Модель с высокой регуляризацией\n",
    "model_high_C = SVC(kernel='rbf', C=10.0, gamma=0.1)\n",
    "model_high_C.fit(X_train, y_train)\n",
    "\n",
    "# Предсказания\n",
    "y_pred_high_C = model_high_C.predict(X_test)\n",
    "\n",
    "# Метрики\n",
    "print(\"Модель с высокой регуляризацией (C=10):\")\n",
    "print(classification_report(y_test, y_pred_high_C))\n"
   ]
  },
  {
   "cell_type": "markdown",
   "metadata": {
    "id": "GC3zQNJzaTa2"
   },
   "source": [
    "Получили значение accuracy лучше, чем в предыдущем случае, за счет C=10.0. Так получилось, потому что при большом значении C, модель будет строить более сложные разделяющие гиперплоскости. Вполне возможно, что C=10.0 и gamma=0.1 компенсировали друг друга."
   ]
  },
  {
   "cell_type": "code",
   "execution_count": 520,
   "metadata": {
    "colab": {
     "base_uri": "https://localhost:8080/"
    },
    "id": "bqPKmeUIf2tc",
    "outputId": "ea3d2307-a63e-4f93-994d-e19889807dd9"
   },
   "outputs": [
    {
     "name": "stdout",
     "output_type": "stream",
     "text": [
      "Модель с низкой регуляризацией (C=0.1):\n",
      "                 precision    recall  f1-score   support\n",
      "\n",
      "    Iris-setosa       0.00      0.00      0.00         9\n",
      "Iris-versicolor       0.23      1.00      0.38         7\n",
      " Iris-virginica       0.00      0.00      0.00        14\n",
      "\n",
      "       accuracy                           0.23        30\n",
      "      macro avg       0.08      0.33      0.13        30\n",
      "   weighted avg       0.05      0.23      0.09        30\n",
      "\n"
     ]
    },
    {
     "name": "stderr",
     "output_type": "stream",
     "text": [
      "/Library/Frameworks/Python.framework/Versions/3.12/lib/python3.12/site-packages/sklearn/metrics/_classification.py:1509: UndefinedMetricWarning: Precision is ill-defined and being set to 0.0 in labels with no predicted samples. Use `zero_division` parameter to control this behavior.\n",
      "  _warn_prf(average, modifier, f\"{metric.capitalize()} is\", len(result))\n",
      "/Library/Frameworks/Python.framework/Versions/3.12/lib/python3.12/site-packages/sklearn/metrics/_classification.py:1509: UndefinedMetricWarning: Precision is ill-defined and being set to 0.0 in labels with no predicted samples. Use `zero_division` parameter to control this behavior.\n",
      "  _warn_prf(average, modifier, f\"{metric.capitalize()} is\", len(result))\n",
      "/Library/Frameworks/Python.framework/Versions/3.12/lib/python3.12/site-packages/sklearn/metrics/_classification.py:1509: UndefinedMetricWarning: Precision is ill-defined and being set to 0.0 in labels with no predicted samples. Use `zero_division` parameter to control this behavior.\n",
      "  _warn_prf(average, modifier, f\"{metric.capitalize()} is\", len(result))\n"
     ]
    }
   ],
   "source": [
    "# Модель с низкой регуляризацией\n",
    "model_low_C = SVC(kernel='rbf', C=0.1, gamma=0.1)\n",
    "model_low_C.fit(X_train, y_train)\n",
    "\n",
    "# Предсказания\n",
    "y_pred_low_C = model_low_C.predict(X_test)\n",
    "\n",
    "# Метрики\n",
    "print(\"Модель с низкой регуляризацией (C=0.1):\")\n",
    "print(classification_report(y_test, y_pred_low_C))\n"
   ]
  },
  {
   "cell_type": "markdown",
   "metadata": {
    "id": "4nic7x6-b1Q2"
   },
   "source": [
    "Ну тут беда"
   ]
  },
  {
   "cell_type": "code",
   "execution_count": 521,
   "metadata": {
    "colab": {
     "base_uri": "https://localhost:8080/"
    },
    "id": "J6oSJhyNf4MR",
    "outputId": "d80ece0d-9c2b-44e2-90e8-ed5fce9b8f8f"
   },
   "outputs": [
    {
     "name": "stdout",
     "output_type": "stream",
     "text": [
      "Модель с полиномиальным ядром:\n",
      "                 precision    recall  f1-score   support\n",
      "\n",
      "    Iris-setosa       1.00      1.00      1.00         9\n",
      "Iris-versicolor       0.78      1.00      0.88         7\n",
      " Iris-virginica       1.00      0.86      0.92        14\n",
      "\n",
      "       accuracy                           0.93        30\n",
      "      macro avg       0.93      0.95      0.93        30\n",
      "   weighted avg       0.95      0.93      0.93        30\n",
      "\n"
     ]
    }
   ],
   "source": [
    "# Модель с полиномиальным ядром\n",
    "model_poly = SVC(kernel='poly')\n",
    "model_poly.fit(X_train, y_train)\n",
    "\n",
    "# Предсказания\n",
    "y_pred_poly = model_poly.predict(X_test)\n",
    "\n",
    "# Метрики\n",
    "print(\"Модель с полиномиальным ядром:\")\n",
    "print(classification_report(y_test, y_pred_poly))"
   ]
  },
  {
   "cell_type": "markdown",
   "metadata": {
    "id": "5MtoUB7mcP_Y"
   },
   "source": [
    "С полиномиальным ядром получили значение accuracy примерно такое же, как и в случае с rbf ядром. Модель обучилась достаточно хорошо."
   ]
  },
  {
   "cell_type": "markdown",
   "metadata": {
    "id": "u-OKXhNecgHO"
   },
   "source": [
    "На самом деле конкретно в нашем случае сидеть перебирать все параметры это бессмысленно, я думаю стоит использовать хотя бы RandomSearch или GridSearch"
   ]
  },
  {
   "cell_type": "code",
   "execution_count": 522,
   "metadata": {
    "colab": {
     "base_uri": "https://localhost:8080/"
    },
    "id": "4qskUt-Lc6Tn",
    "outputId": "adfa8881-0f70-4a5b-ff40-72f99d1b4ee4"
   },
   "outputs": [
    {
     "name": "stdout",
     "output_type": "stream",
     "text": [
      "Лучшие параметры: {'C': 1, 'gamma': 'scale', 'kernel': 'rbf'}\n",
      "Accuracy: 0.9333\n",
      "Precision: 0.9481\n",
      "Recall: 0.9333\n",
      "F1-Score: 0.9349\n"
     ]
    }
   ],
   "source": [
    "# Параметры для поиска, включая разные типы ядер\n",
    "param_grid = {\n",
    "    'C': [0.1, 1, 10],\n",
    "    'gamma': ['scale', 0.01, 0.1, 1],\n",
    "    'kernel': ['rbf', 'linear', 'poly', 'sigmoid']\n",
    "}\n",
    "\n",
    "# Настройка GridSearchCV для подбора лучших параметров\n",
    "grid_search = GridSearchCV(model, param_grid, cv=5)\n",
    "\n",
    "grid_search.fit(X_train, y_train)\n",
    "\n",
    "print(f\"Лучшие параметры: {grid_search.best_params_}\")\n",
    "\n",
    "# Оценка на тестовой выборке\n",
    "y_pred_grid_search = grid_search.predict(X_test)\n",
    "\n",
    "# Оцениваем точность модели на тестовом наборе\n",
    "accuracy = accuracy_score(y_test, y_pred_grid_search)\n",
    "print(f\"Accuracy: {accuracy:.4f}\")\n",
    "\n",
    "# Вычисляем Precision\n",
    "precision = precision_score(y_test, y_pred_grid_search, average='weighted')\n",
    "print(f\"Precision: {precision:.4f}\")\n",
    "\n",
    "# Вычисляем Recall\n",
    "recall = recall_score(y_test, y_pred_grid_search, average='weighted')\n",
    "print(f\"Recall: {recall:.4f}\")\n",
    "\n",
    "# Вычисляем F1-Score\n",
    "f1 = f1_score(y_test, y_pred_grid_search, average='weighted')\n",
    "print(f\"F1-Score: {f1:.4f}\")"
   ]
  },
  {
   "cell_type": "markdown",
   "metadata": {
    "id": "JifgoxIiYHUr"
   },
   "source": [
    "## Эксперимент 3: Очень маленькая выборка"
   ]
  },
  {
   "cell_type": "code",
   "execution_count": 523,
   "metadata": {
    "colab": {
     "base_uri": "https://localhost:8080/",
     "height": 100
    },
    "id": "ido2TpEYYFhz",
    "outputId": "6bf18a1e-a918-4ba7-9196-64eeb1b67f42"
   },
   "outputs": [
    {
     "data": {
      "text/html": [
       "<style>#sk-container-id-51 {\n",
       "  /* Definition of color scheme common for light and dark mode */\n",
       "  --sklearn-color-text: black;\n",
       "  --sklearn-color-line: gray;\n",
       "  /* Definition of color scheme for unfitted estimators */\n",
       "  --sklearn-color-unfitted-level-0: #fff5e6;\n",
       "  --sklearn-color-unfitted-level-1: #f6e4d2;\n",
       "  --sklearn-color-unfitted-level-2: #ffe0b3;\n",
       "  --sklearn-color-unfitted-level-3: chocolate;\n",
       "  /* Definition of color scheme for fitted estimators */\n",
       "  --sklearn-color-fitted-level-0: #f0f8ff;\n",
       "  --sklearn-color-fitted-level-1: #d4ebff;\n",
       "  --sklearn-color-fitted-level-2: #b3dbfd;\n",
       "  --sklearn-color-fitted-level-3: cornflowerblue;\n",
       "\n",
       "  /* Specific color for light theme */\n",
       "  --sklearn-color-text-on-default-background: var(--sg-text-color, var(--theme-code-foreground, var(--jp-content-font-color1, black)));\n",
       "  --sklearn-color-background: var(--sg-background-color, var(--theme-background, var(--jp-layout-color0, white)));\n",
       "  --sklearn-color-border-box: var(--sg-text-color, var(--theme-code-foreground, var(--jp-content-font-color1, black)));\n",
       "  --sklearn-color-icon: #696969;\n",
       "\n",
       "  @media (prefers-color-scheme: dark) {\n",
       "    /* Redefinition of color scheme for dark theme */\n",
       "    --sklearn-color-text-on-default-background: var(--sg-text-color, var(--theme-code-foreground, var(--jp-content-font-color1, white)));\n",
       "    --sklearn-color-background: var(--sg-background-color, var(--theme-background, var(--jp-layout-color0, #111)));\n",
       "    --sklearn-color-border-box: var(--sg-text-color, var(--theme-code-foreground, var(--jp-content-font-color1, white)));\n",
       "    --sklearn-color-icon: #878787;\n",
       "  }\n",
       "}\n",
       "\n",
       "#sk-container-id-51 {\n",
       "  color: var(--sklearn-color-text);\n",
       "}\n",
       "\n",
       "#sk-container-id-51 pre {\n",
       "  padding: 0;\n",
       "}\n",
       "\n",
       "#sk-container-id-51 input.sk-hidden--visually {\n",
       "  border: 0;\n",
       "  clip: rect(1px 1px 1px 1px);\n",
       "  clip: rect(1px, 1px, 1px, 1px);\n",
       "  height: 1px;\n",
       "  margin: -1px;\n",
       "  overflow: hidden;\n",
       "  padding: 0;\n",
       "  position: absolute;\n",
       "  width: 1px;\n",
       "}\n",
       "\n",
       "#sk-container-id-51 div.sk-dashed-wrapped {\n",
       "  border: 1px dashed var(--sklearn-color-line);\n",
       "  margin: 0 0.4em 0.5em 0.4em;\n",
       "  box-sizing: border-box;\n",
       "  padding-bottom: 0.4em;\n",
       "  background-color: var(--sklearn-color-background);\n",
       "}\n",
       "\n",
       "#sk-container-id-51 div.sk-container {\n",
       "  /* jupyter's `normalize.less` sets `[hidden] { display: none; }`\n",
       "     but bootstrap.min.css set `[hidden] { display: none !important; }`\n",
       "     so we also need the `!important` here to be able to override the\n",
       "     default hidden behavior on the sphinx rendered scikit-learn.org.\n",
       "     See: https://github.com/scikit-learn/scikit-learn/issues/21755 */\n",
       "  display: inline-block !important;\n",
       "  position: relative;\n",
       "}\n",
       "\n",
       "#sk-container-id-51 div.sk-text-repr-fallback {\n",
       "  display: none;\n",
       "}\n",
       "\n",
       "div.sk-parallel-item,\n",
       "div.sk-serial,\n",
       "div.sk-item {\n",
       "  /* draw centered vertical line to link estimators */\n",
       "  background-image: linear-gradient(var(--sklearn-color-text-on-default-background), var(--sklearn-color-text-on-default-background));\n",
       "  background-size: 2px 100%;\n",
       "  background-repeat: no-repeat;\n",
       "  background-position: center center;\n",
       "}\n",
       "\n",
       "/* Parallel-specific style estimator block */\n",
       "\n",
       "#sk-container-id-51 div.sk-parallel-item::after {\n",
       "  content: \"\";\n",
       "  width: 100%;\n",
       "  border-bottom: 2px solid var(--sklearn-color-text-on-default-background);\n",
       "  flex-grow: 1;\n",
       "}\n",
       "\n",
       "#sk-container-id-51 div.sk-parallel {\n",
       "  display: flex;\n",
       "  align-items: stretch;\n",
       "  justify-content: center;\n",
       "  background-color: var(--sklearn-color-background);\n",
       "  position: relative;\n",
       "}\n",
       "\n",
       "#sk-container-id-51 div.sk-parallel-item {\n",
       "  display: flex;\n",
       "  flex-direction: column;\n",
       "}\n",
       "\n",
       "#sk-container-id-51 div.sk-parallel-item:first-child::after {\n",
       "  align-self: flex-end;\n",
       "  width: 50%;\n",
       "}\n",
       "\n",
       "#sk-container-id-51 div.sk-parallel-item:last-child::after {\n",
       "  align-self: flex-start;\n",
       "  width: 50%;\n",
       "}\n",
       "\n",
       "#sk-container-id-51 div.sk-parallel-item:only-child::after {\n",
       "  width: 0;\n",
       "}\n",
       "\n",
       "/* Serial-specific style estimator block */\n",
       "\n",
       "#sk-container-id-51 div.sk-serial {\n",
       "  display: flex;\n",
       "  flex-direction: column;\n",
       "  align-items: center;\n",
       "  background-color: var(--sklearn-color-background);\n",
       "  padding-right: 1em;\n",
       "  padding-left: 1em;\n",
       "}\n",
       "\n",
       "\n",
       "/* Toggleable style: style used for estimator/Pipeline/ColumnTransformer box that is\n",
       "clickable and can be expanded/collapsed.\n",
       "- Pipeline and ColumnTransformer use this feature and define the default style\n",
       "- Estimators will overwrite some part of the style using the `sk-estimator` class\n",
       "*/\n",
       "\n",
       "/* Pipeline and ColumnTransformer style (default) */\n",
       "\n",
       "#sk-container-id-51 div.sk-toggleable {\n",
       "  /* Default theme specific background. It is overwritten whether we have a\n",
       "  specific estimator or a Pipeline/ColumnTransformer */\n",
       "  background-color: var(--sklearn-color-background);\n",
       "}\n",
       "\n",
       "/* Toggleable label */\n",
       "#sk-container-id-51 label.sk-toggleable__label {\n",
       "  cursor: pointer;\n",
       "  display: block;\n",
       "  width: 100%;\n",
       "  margin-bottom: 0;\n",
       "  padding: 0.5em;\n",
       "  box-sizing: border-box;\n",
       "  text-align: center;\n",
       "}\n",
       "\n",
       "#sk-container-id-51 label.sk-toggleable__label-arrow:before {\n",
       "  /* Arrow on the left of the label */\n",
       "  content: \"▸\";\n",
       "  float: left;\n",
       "  margin-right: 0.25em;\n",
       "  color: var(--sklearn-color-icon);\n",
       "}\n",
       "\n",
       "#sk-container-id-51 label.sk-toggleable__label-arrow:hover:before {\n",
       "  color: var(--sklearn-color-text);\n",
       "}\n",
       "\n",
       "/* Toggleable content - dropdown */\n",
       "\n",
       "#sk-container-id-51 div.sk-toggleable__content {\n",
       "  max-height: 0;\n",
       "  max-width: 0;\n",
       "  overflow: hidden;\n",
       "  text-align: left;\n",
       "  /* unfitted */\n",
       "  background-color: var(--sklearn-color-unfitted-level-0);\n",
       "}\n",
       "\n",
       "#sk-container-id-51 div.sk-toggleable__content.fitted {\n",
       "  /* fitted */\n",
       "  background-color: var(--sklearn-color-fitted-level-0);\n",
       "}\n",
       "\n",
       "#sk-container-id-51 div.sk-toggleable__content pre {\n",
       "  margin: 0.2em;\n",
       "  border-radius: 0.25em;\n",
       "  color: var(--sklearn-color-text);\n",
       "  /* unfitted */\n",
       "  background-color: var(--sklearn-color-unfitted-level-0);\n",
       "}\n",
       "\n",
       "#sk-container-id-51 div.sk-toggleable__content.fitted pre {\n",
       "  /* unfitted */\n",
       "  background-color: var(--sklearn-color-fitted-level-0);\n",
       "}\n",
       "\n",
       "#sk-container-id-51 input.sk-toggleable__control:checked~div.sk-toggleable__content {\n",
       "  /* Expand drop-down */\n",
       "  max-height: 200px;\n",
       "  max-width: 100%;\n",
       "  overflow: auto;\n",
       "}\n",
       "\n",
       "#sk-container-id-51 input.sk-toggleable__control:checked~label.sk-toggleable__label-arrow:before {\n",
       "  content: \"▾\";\n",
       "}\n",
       "\n",
       "/* Pipeline/ColumnTransformer-specific style */\n",
       "\n",
       "#sk-container-id-51 div.sk-label input.sk-toggleable__control:checked~label.sk-toggleable__label {\n",
       "  color: var(--sklearn-color-text);\n",
       "  background-color: var(--sklearn-color-unfitted-level-2);\n",
       "}\n",
       "\n",
       "#sk-container-id-51 div.sk-label.fitted input.sk-toggleable__control:checked~label.sk-toggleable__label {\n",
       "  background-color: var(--sklearn-color-fitted-level-2);\n",
       "}\n",
       "\n",
       "/* Estimator-specific style */\n",
       "\n",
       "/* Colorize estimator box */\n",
       "#sk-container-id-51 div.sk-estimator input.sk-toggleable__control:checked~label.sk-toggleable__label {\n",
       "  /* unfitted */\n",
       "  background-color: var(--sklearn-color-unfitted-level-2);\n",
       "}\n",
       "\n",
       "#sk-container-id-51 div.sk-estimator.fitted input.sk-toggleable__control:checked~label.sk-toggleable__label {\n",
       "  /* fitted */\n",
       "  background-color: var(--sklearn-color-fitted-level-2);\n",
       "}\n",
       "\n",
       "#sk-container-id-51 div.sk-label label.sk-toggleable__label,\n",
       "#sk-container-id-51 div.sk-label label {\n",
       "  /* The background is the default theme color */\n",
       "  color: var(--sklearn-color-text-on-default-background);\n",
       "}\n",
       "\n",
       "/* On hover, darken the color of the background */\n",
       "#sk-container-id-51 div.sk-label:hover label.sk-toggleable__label {\n",
       "  color: var(--sklearn-color-text);\n",
       "  background-color: var(--sklearn-color-unfitted-level-2);\n",
       "}\n",
       "\n",
       "/* Label box, darken color on hover, fitted */\n",
       "#sk-container-id-51 div.sk-label.fitted:hover label.sk-toggleable__label.fitted {\n",
       "  color: var(--sklearn-color-text);\n",
       "  background-color: var(--sklearn-color-fitted-level-2);\n",
       "}\n",
       "\n",
       "/* Estimator label */\n",
       "\n",
       "#sk-container-id-51 div.sk-label label {\n",
       "  font-family: monospace;\n",
       "  font-weight: bold;\n",
       "  display: inline-block;\n",
       "  line-height: 1.2em;\n",
       "}\n",
       "\n",
       "#sk-container-id-51 div.sk-label-container {\n",
       "  text-align: center;\n",
       "}\n",
       "\n",
       "/* Estimator-specific */\n",
       "#sk-container-id-51 div.sk-estimator {\n",
       "  font-family: monospace;\n",
       "  border: 1px dotted var(--sklearn-color-border-box);\n",
       "  border-radius: 0.25em;\n",
       "  box-sizing: border-box;\n",
       "  margin-bottom: 0.5em;\n",
       "  /* unfitted */\n",
       "  background-color: var(--sklearn-color-unfitted-level-0);\n",
       "}\n",
       "\n",
       "#sk-container-id-51 div.sk-estimator.fitted {\n",
       "  /* fitted */\n",
       "  background-color: var(--sklearn-color-fitted-level-0);\n",
       "}\n",
       "\n",
       "/* on hover */\n",
       "#sk-container-id-51 div.sk-estimator:hover {\n",
       "  /* unfitted */\n",
       "  background-color: var(--sklearn-color-unfitted-level-2);\n",
       "}\n",
       "\n",
       "#sk-container-id-51 div.sk-estimator.fitted:hover {\n",
       "  /* fitted */\n",
       "  background-color: var(--sklearn-color-fitted-level-2);\n",
       "}\n",
       "\n",
       "/* Specification for estimator info (e.g. \"i\" and \"?\") */\n",
       "\n",
       "/* Common style for \"i\" and \"?\" */\n",
       "\n",
       ".sk-estimator-doc-link,\n",
       "a:link.sk-estimator-doc-link,\n",
       "a:visited.sk-estimator-doc-link {\n",
       "  float: right;\n",
       "  font-size: smaller;\n",
       "  line-height: 1em;\n",
       "  font-family: monospace;\n",
       "  background-color: var(--sklearn-color-background);\n",
       "  border-radius: 1em;\n",
       "  height: 1em;\n",
       "  width: 1em;\n",
       "  text-decoration: none !important;\n",
       "  margin-left: 1ex;\n",
       "  /* unfitted */\n",
       "  border: var(--sklearn-color-unfitted-level-1) 1pt solid;\n",
       "  color: var(--sklearn-color-unfitted-level-1);\n",
       "}\n",
       "\n",
       ".sk-estimator-doc-link.fitted,\n",
       "a:link.sk-estimator-doc-link.fitted,\n",
       "a:visited.sk-estimator-doc-link.fitted {\n",
       "  /* fitted */\n",
       "  border: var(--sklearn-color-fitted-level-1) 1pt solid;\n",
       "  color: var(--sklearn-color-fitted-level-1);\n",
       "}\n",
       "\n",
       "/* On hover */\n",
       "div.sk-estimator:hover .sk-estimator-doc-link:hover,\n",
       ".sk-estimator-doc-link:hover,\n",
       "div.sk-label-container:hover .sk-estimator-doc-link:hover,\n",
       ".sk-estimator-doc-link:hover {\n",
       "  /* unfitted */\n",
       "  background-color: var(--sklearn-color-unfitted-level-3);\n",
       "  color: var(--sklearn-color-background);\n",
       "  text-decoration: none;\n",
       "}\n",
       "\n",
       "div.sk-estimator.fitted:hover .sk-estimator-doc-link.fitted:hover,\n",
       ".sk-estimator-doc-link.fitted:hover,\n",
       "div.sk-label-container:hover .sk-estimator-doc-link.fitted:hover,\n",
       ".sk-estimator-doc-link.fitted:hover {\n",
       "  /* fitted */\n",
       "  background-color: var(--sklearn-color-fitted-level-3);\n",
       "  color: var(--sklearn-color-background);\n",
       "  text-decoration: none;\n",
       "}\n",
       "\n",
       "/* Span, style for the box shown on hovering the info icon */\n",
       ".sk-estimator-doc-link span {\n",
       "  display: none;\n",
       "  z-index: 9999;\n",
       "  position: relative;\n",
       "  font-weight: normal;\n",
       "  right: .2ex;\n",
       "  padding: .5ex;\n",
       "  margin: .5ex;\n",
       "  width: min-content;\n",
       "  min-width: 20ex;\n",
       "  max-width: 50ex;\n",
       "  color: var(--sklearn-color-text);\n",
       "  box-shadow: 2pt 2pt 4pt #999;\n",
       "  /* unfitted */\n",
       "  background: var(--sklearn-color-unfitted-level-0);\n",
       "  border: .5pt solid var(--sklearn-color-unfitted-level-3);\n",
       "}\n",
       "\n",
       ".sk-estimator-doc-link.fitted span {\n",
       "  /* fitted */\n",
       "  background: var(--sklearn-color-fitted-level-0);\n",
       "  border: var(--sklearn-color-fitted-level-3);\n",
       "}\n",
       "\n",
       ".sk-estimator-doc-link:hover span {\n",
       "  display: block;\n",
       "}\n",
       "\n",
       "/* \"?\"-specific style due to the `<a>` HTML tag */\n",
       "\n",
       "#sk-container-id-51 a.estimator_doc_link {\n",
       "  float: right;\n",
       "  font-size: 1rem;\n",
       "  line-height: 1em;\n",
       "  font-family: monospace;\n",
       "  background-color: var(--sklearn-color-background);\n",
       "  border-radius: 1rem;\n",
       "  height: 1rem;\n",
       "  width: 1rem;\n",
       "  text-decoration: none;\n",
       "  /* unfitted */\n",
       "  color: var(--sklearn-color-unfitted-level-1);\n",
       "  border: var(--sklearn-color-unfitted-level-1) 1pt solid;\n",
       "}\n",
       "\n",
       "#sk-container-id-51 a.estimator_doc_link.fitted {\n",
       "  /* fitted */\n",
       "  border: var(--sklearn-color-fitted-level-1) 1pt solid;\n",
       "  color: var(--sklearn-color-fitted-level-1);\n",
       "}\n",
       "\n",
       "/* On hover */\n",
       "#sk-container-id-51 a.estimator_doc_link:hover {\n",
       "  /* unfitted */\n",
       "  background-color: var(--sklearn-color-unfitted-level-3);\n",
       "  color: var(--sklearn-color-background);\n",
       "  text-decoration: none;\n",
       "}\n",
       "\n",
       "#sk-container-id-51 a.estimator_doc_link.fitted:hover {\n",
       "  /* fitted */\n",
       "  background-color: var(--sklearn-color-fitted-level-3);\n",
       "}\n",
       "</style><div id=\"sk-container-id-51\" class=\"sk-top-container\"><div class=\"sk-text-repr-fallback\"><pre>SVC(kernel=&#x27;linear&#x27;)</pre><b>In a Jupyter environment, please rerun this cell to show the HTML representation or trust the notebook. <br />On GitHub, the HTML representation is unable to render, please try loading this page with nbviewer.org.</b></div><div class=\"sk-container\" hidden><div class=\"sk-item\"><div class=\"sk-estimator fitted sk-toggleable\"><input class=\"sk-toggleable__control sk-hidden--visually\" id=\"sk-estimator-id-51\" type=\"checkbox\" checked><label for=\"sk-estimator-id-51\" class=\"sk-toggleable__label fitted sk-toggleable__label-arrow fitted\">&nbsp;&nbsp;SVC<a class=\"sk-estimator-doc-link fitted\" rel=\"noreferrer\" target=\"_blank\" href=\"https://scikit-learn.org/1.4/modules/generated/sklearn.svm.SVC.html\">?<span>Documentation for SVC</span></a><span class=\"sk-estimator-doc-link fitted\">i<span>Fitted</span></span></label><div class=\"sk-toggleable__content fitted\"><pre>SVC(kernel=&#x27;linear&#x27;)</pre></div> </div></div></div></div>"
      ],
      "text/plain": [
       "SVC(kernel='linear')"
      ]
     },
     "execution_count": 523,
     "metadata": {},
     "output_type": "execute_result"
    }
   ],
   "source": [
    "# Оставим только 10 примеров для обучения\n",
    "X_train_small = X_train[:10] \n",
    "y_train_small = y_train[:10]\n",
    "\n",
    "# Обучаем модель SVC с линейным ядром на маленькой выборке\n",
    "model_small_data = SVC(kernel='linear')\n",
    "model_small_data.fit(X_train_small, y_train_small)"
   ]
  },
  {
   "cell_type": "code",
   "execution_count": 524,
   "metadata": {
    "colab": {
     "base_uri": "https://localhost:8080/"
    },
    "id": "5Vos2fd1dIQh",
    "outputId": "348d3245-7945-4f4d-cb54-baadbeb208fd"
   },
   "outputs": [
    {
     "name": "stdout",
     "output_type": "stream",
     "text": [
      "Accuracy: 0.7667\n",
      "Precision: 0.5967\n",
      "Recall: 0.7667\n",
      "F1-Score: 0.6685\n"
     ]
    },
    {
     "name": "stderr",
     "output_type": "stream",
     "text": [
      "/Library/Frameworks/Python.framework/Versions/3.12/lib/python3.12/site-packages/sklearn/metrics/_classification.py:1509: UndefinedMetricWarning: Precision is ill-defined and being set to 0.0 in labels with no predicted samples. Use `zero_division` parameter to control this behavior.\n",
      "  _warn_prf(average, modifier, f\"{metric.capitalize()} is\", len(result))\n"
     ]
    }
   ],
   "source": [
    "y_pred_small_data = model_small_data.predict(X_test)\n",
    "\n",
    "# Оцениваем точность модели на тестовом наборе\n",
    "accuracy_small_data = accuracy_score(y_test, y_pred_small_data)\n",
    "print(f\"Accuracy: {accuracy_small_data:.4f}\")\n",
    "\n",
    "# Вычисляем Precision\n",
    "precision_small_data = precision_score(y_test, y_pred_small_data, average='weighted')\n",
    "print(f\"Precision: {precision_small_data:.4f}\")\n",
    "\n",
    "# Вычисляем Recall\n",
    "recall_small_data = recall_score(y_test, y_pred_small_data, average='weighted')\n",
    "print(f\"Recall: {recall_small_data:.4f}\")\n",
    "\n",
    "# Вычисляем F1-Score\n",
    "f1_small_data = f1_score(y_test, y_pred_small_data, average='weighted')\n",
    "print(f\"F1-Score: {f1_small_data:.4f}\")"
   ]
  },
  {
   "cell_type": "markdown",
   "metadata": {
    "id": "9h0KA_URebOd"
   },
   "source": [
    "Я считаю, что данные - это один из самых важных моментов при обучении модели. Маленькая выборка может привести к плохим результатам модели, потому что она ограничивает способность модели выявлять и обобщать закономерности, повышает вероятность переобучения, и снижает стабильность метрик. Чем больше выборка, тем больше данных для обучения, тем лучше модель может«увидеть разнообразие примеров и правильно обучиться, улучшая общую производительность. Данные должны быть качественными. Другое дело, где искать вычислительные мощности для обучения на таких данных, но в нашем случае 150 примеров в датасете - это очень не много."
   ]
  },
  {
   "cell_type": "markdown",
   "metadata": {
    "id": "7QIFbRedfyhI"
   },
   "source": [
    "## Визуализируем датасет, пользуясь методами уменьшения размерности."
   ]
  },
  {
   "cell_type": "markdown",
   "metadata": {
    "id": "PypyoLTbiNGE"
   },
   "source": [
    "Уменьшение размерности — это процесс преобразования данных с высоким числом признаков в данные с меньшим числом признаков, при сохранении значимой информации. Это важный этап машинного обучения, который помогает улучшить производительность моделей, ускорить обучение, а также уменьшить вероятность переобучения. Если данные имеют множество признаков, многие из которых избыточны, применение методов уменьшения размерности поможет улучшить результаты модели.\n",
    "\n",
    "Основные методы уменьшения размерности:\n",
    "---\n",
    "\n",
    "### **1. Методы выбора признаков**\n",
    "Цель — оставить только наиболее значимые признаки, исключая нерелевантные или избыточные.\n",
    "\n",
    "#### **Методы отбора на основе статистики:**\n",
    "- **Метод \"выбора по порогу важности\"**: Исключаются признаки с низкой важностью (например, используя значения из решающих деревьев или моделей бустинга).\n",
    "- **ANOVA, χ²-тесты**: Применяются для выбора признаков, имеющих значительную корреляцию с целевой переменной.\n",
    "- **L1-регуляризация (LASSO)**: Добавляет штраф к коэффициентам регрессии, \"обнуляя\" малозначимые признаки.\n",
    "\n",
    "#### **Жадные методы отбора признаков:**\n",
    "- **Forward Selection**: Постепенно добавляются признаки, которые максимально улучшают модель.\n",
    "- **Backward Elimination**: Удаляются признаки, минимально влияющие на модель.\n",
    "- **Recursive Feature Elimination (RFE)**: Итеративное исключение наименее важных признаков.\n",
    "\n",
    "---\n",
    "\n",
    "### **2. Методы преобразования признаков**\n",
    "Цель — создать новые признаки (обычно меньшей размерности) из исходных данных.\n",
    "\n",
    "#### **PCA (Principal Component Analysis, метод главных компонент):**\n",
    "- Преобразует исходные данные в новые ортогональные признаки (главные компоненты), которые объясняют наибольшую долю дисперсии данных.\n",
    "- Используется для анализа данных и предварительной обработки в задачах классификации и кластеризации.\n",
    "\n",
    "#### **SVD (Singular Value Decomposition, сингулярное разложение):**\n",
    "- Общее разложение матриц, часто используемое для работы с разреженными данными (например, в рекомендательных системах).\n",
    "- Может быть применено для уменьшения размерности в задачах обработки текстов (Latent Semantic Analysis, LSA).\n",
    "\n",
    "#### **t-SNE (t-Distributed Stochastic Neighbor Embedding):**\n",
    "- Нелинейный метод, хорошо подходит для визуализации данных в 2D или 3D. t-SNE используется в первую очередь для визуализации данных, а не для преобразования данных в новом пространстве для использования в последующих шагах машинного обучения.\n",
    "- Фокусируется на сохранении локальной структуры данных, t-SNE преобразует высокомерное пространство в низкоразмерное так, чтобы похожие точки в высоком пространстве оставались рядом, а непохожие точки находились дальше друг от друга. Он не сохраняет глобальную структуру данных, то есть распределение в целом может быть искажено.\n",
    "\n",
    "#### **UMAP (Uniform Manifold Approximation and Projection):**\n",
    "- Современная альтернатива t-SNE, обеспечивающая быструю и качественную визуализацию.\n",
    "- Хорошо сохраняет как локальную, так и глобальную структуру данных.\n",
    "\n",
    "#### **Autoencoders (автокодировщики):**\n",
    "- Нейронные сети, которые обучаются сжатию данных в \"узкое место\" (bottleneck), затем восстанавливая их.\n",
    "- Используются для нелинейного уменьшения размерности и извлечения скрытых признаков.\n",
    "\n",
    "---\n",
    "\n",
    "### **3. Методы отбора на основе корреляции**\n",
    "Цель — исключить сильно коррелирующие признаки, чтобы минимизировать избыточность данных.\n",
    "- Вычисляется корреляционная матрица, и один из признаков в каждой паре с высокой корреляцией удаляется.\n",
    "- Более сложные варианты используют меры взаимной информации или зависимость функций.\n",
    "\n",
    "---\n",
    "\n",
    "### **4. Линейные модели с регуляризацией**\n",
    "- Регуляризация (например, L1-регуляризация) помогает уменьшить размерность, присваивая некоторым признакам нулевые веса."
   ]
  },
  {
   "cell_type": "code",
   "execution_count": 525,
   "metadata": {
    "id": "prtzkueRYk9V"
   },
   "outputs": [],
   "source": [
    "def plot_pca(X, y, plt, title):\n",
    "    pca = PCA(n_components=2)\n",
    "    X_pca = pca.fit_transform(X)\n",
    "\n",
    "    scatter = plt.scatter(X_pca[:, 0], X_pca[:, 1], c=[{'Iris-setosa': 0, 'Iris-versicolor': 1, 'Iris-virginica': 2}[label] for label in y], cmap='viridis', alpha=0.7)\n",
    "    legend = plt.legend(*scatter.legend_elements(), title=\"Classes\")\n",
    "    plt.add_artist(legend)\n",
    "    plt.set_title(f'PCA - {title}')\n",
    "\n",
    "def plot_tsne(X, y, plt, title):\n",
    "    tsne = TSNE(n_components=2, perplexity=min(30, X.shape[0] - 1), random_state=42)\n",
    "    X_tsne = tsne.fit_transform(X)\n",
    "\n",
    "    scatter = plt.scatter(X_tsne[:, 0], X_tsne[:, 1], c=[{'Iris-setosa': 0, 'Iris-versicolor': 1, 'Iris-virginica': 2}[label] for label in y], cmap='viridis', alpha=0.7)\n",
    "    legend = plt.legend(*scatter.legend_elements(), title=\"Classes\")\n",
    "    plt.add_artist(legend)\n",
    "    plt.set_title(f't-SNE - {title}')"
   ]
  },
  {
   "cell_type": "code",
   "execution_count": 526,
   "metadata": {
    "colab": {
     "base_uri": "https://localhost:8080/",
     "height": 977
    },
    "id": "JCHu_QOvcG65",
    "outputId": "8de0c7de-9a41-4944-ec55-6c6fa018f23c"
   },
   "outputs": [
    {
     "data": {
      "image/png": "[encoded data removed]",
      "text/plain": [
       "<Figure size 1200x1000 with 4 Axes>"
      ]
     },
     "metadata": {},
     "output_type": "display_data"
    }
   ],
   "source": [
    "fig, axes = plt.subplots(2, 2, figsize=(12, 10))\n",
    "\n",
    "# Визуализация с использованием PCA и t-SNE для исходных данных\n",
    "plot_pca(X_train, y_train, axes[0, 0], 'Original Data')\n",
    "plot_tsne(X_train, y_train, axes[1, 0], 'Original Data')\n",
    "\n",
    "# Визуализация с использованием PCA и t-SNE для предсказанных данных\n",
    "plot_pca(X_train, model.predict(X_train), axes[0, 1], 'Predicted Data')\n",
    "plot_tsne(X_train, model.predict(X_train), axes[1, 1], 'Predicted Data')\n",
    "\n",
    "plt.tight_layout()\n",
    "plt.show()"
   ]
  }
 ],
 "metadata": {
  "colab": {
   "provenance": []
  },
  "kernelspec": {
   "display_name": "Python 3",
   "name": "python3"
  },
  "language_info": {
   "codemirror_mode": {
    "name": "ipython",
    "version": 3
   },
   "file_extension": ".py",
   "mimetype": "text/x-python",
   "name": "python",
   "nbconvert_exporter": "python",
   "pygments_lexer": "ipython3",
   "version": "3.12.2"
  }
 },
 "nbformat": 4,
 "nbformat_minor": 0
}
